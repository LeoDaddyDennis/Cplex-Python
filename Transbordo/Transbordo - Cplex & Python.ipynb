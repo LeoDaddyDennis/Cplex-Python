{
 "cells": [
  {
   "cell_type": "markdown",
   "metadata": {},
   "source": [
    "![title](UCN.png)\n",
    "\n",
    " #  <font color=blue> Optimización con Python & Cplex - Transbordo </font>\n",
    "\n",
    "<div class=\"alert alert-info\"> </h4> **Material preparado para la carrera de Ingeniería Civil Industrial | Universidad Católica del Norte | Campus Coquimbo | Curso - Cadena de Suministros.**\n",
    "</h4> </div>\n",
    "\n",
    "## Modelo de Tranbordo\n",
    "\n",
    "El modelo de transbordo es un caso especial del modelo de transporte, multifase, donde el flujo de materias primas y servicios es interrumpido en al menos un nodo entre el origen y el destino. En su construcción estándar el stock de productos de cada fabrica es enviado a uno de los centros de distribución (DC) y luego este a cualquiera de las tiendas.\n",
    "\n",
    "<img src=\"transbordo.png\" width=\"400\" height=\"400\" />\n",
    "\n",
    "Si bien no es el objetivo de este manual determinar si la idea de utilizar centros de distribución o centros logísticos es correcta o no, es importante destacar que este tipo de diseño de red es bastante utilizado ya que brinda algunas ventas, en relación a amortiguar demanda y consolidar ordenes pequeñas, un ejemplo claro de esto son los cross-docking.\n",
    "\n",
    "El problema general se representa en la red de la figura anterior. Hay **n Farbicas**, **k  DC** y **m Tiendas**, cada fuente y cada destino están representados por un nodo. **Los arcos representan las rutas que enlazan las fuentes y los destinos**. El arco (i, k) que une a la fuente i con el destino k conduce dos clases de información: el costo de transporte $c_{ik}$ por unidad por distancia, y la cantidad transportada $x_{ik}$. La capacidad de **oferta en la fuente i es $s_i$** y la **cantidad de demanda en el destino j es $d_j$**. El objetivo del modelo es determinar las incógnitas **$x_{ij}$** que **minimicen el costo total de transporte**, y que al mismo tiempo satisfagan las restricciones de oferta y demanda.\n",
    "\n",
    "\n",
    "### El Modelo de Programación Lineal\n",
    "\n",
    "$Min \\; Z= \\; \\displaystyle\\sum_{i=1}^{n}\\sum_{j=1}^{m} x_{ij}c_{ij}$\n",
    "\n",
    "$\\displaystyle\\sum_{k=1}^{k}x_{ik}\\leq s_i$     $\\; \\; \\forall \\;i \\; \\in \\; n$\n",
    "\n",
    "$\\displaystyle\\sum_{k=1}^{k}x_{kj}\\geq d_j$     $\\; \\; \\forall \\;j \\; \\in \\; m$\n",
    "\n",
    "$\\displaystyle\\sum_{i=1}^{n}x_{ik}- \\displaystyle\\sum_{j=1}^{m}x_{ki}=0$     $\\; \\; \\forall \\;k \\; \\in \\; k$\n",
    "\n",
    "\n",
    "**La última restricción** es conocida como la **conservación del flujo**, que indica que todo lo que entra al centro de distribución 1 provenientes de todas las plantas, debe ser igual a todo lo que sale del centro de distribución 1 hacia todas las tiendas. \n",
    "\n",
    "### El probelma\n",
    "Dado que ya conocemos la concepción y la naturaleza del modelo, en este problema seremos más abstractos. El problema es minimizar el costo de transporte desde 2 Fabricas, con 2 Centros de Distribución a 3 Tiendas. Los datos están en las siguientes tablas: \n",
    "\n",
    "\n",
    "#### Capacidad de Producción  por Plantas ($s_i$)\n",
    "\n",
    "|Producción|Planta 0|Planta 1|\n",
    "|----------|--------|--------|\n",
    "|          |10.000  |12.000  | \n",
    "\n",
    "#### Demanda de por Tienda ($d_i$)\n",
    "\n",
    "| Demanda|Tienda 0|Tienda 1|Tienda 2|\n",
    "|--------|--------|--------|--------|\n",
    "|        |10.000  |7.000   |5.000   | \n",
    "\n",
    "#### Costo de Transporte desde DC a Tienda ($c_{kj}$)\n",
    "\n",
    "| costo/unidad||Tienda 0|Tienda 1|Tienda 2|\n",
    "|-------------|---------|--------|--------|\n",
    "|DC 0         |2.350    |3.200   |2.150   | \n",
    "|DC 1         |2.850    |2.950   |2.200   | \n",
    "\n",
    "#### Costo de Transporte desde Fabrica a DC ($c_{ik}$)\n",
    "\n",
    "| costo/unidad|DC 0  |DC1   |\n",
    "|-------------|------|------|\n",
    "|Fabrica 0    |3.000 |3.500 |\n",
    "|Fabrica 1    |3.500 |3.200 |\n",
    "\n"
   ]
  },
  {
   "cell_type": "markdown",
   "metadata": {},
   "source": [
    "# Paso 1: Datos"
   ]
  },
  {
   "cell_type": "code",
   "execution_count": 1,
   "metadata": {},
   "outputs": [
    {
     "name": "stdout",
     "output_type": "stream",
     "text": [
      "[0, 1]\n",
      "[0, 1]\n",
      "[0, 1, 2]\n"
     ]
    }
   ],
   "source": [
    "fabricas=[i for i in range(2)]\n",
    "print(fabricas)\n",
    "\n",
    "dc=[k for k in range(2)]\n",
    "print(dc)\n",
    "\n",
    "tiendas=[j for j in range(3)]\n",
    "print(tiendas)"
   ]
  },
  {
   "cell_type": "code",
   "execution_count": 2,
   "metadata": {},
   "outputs": [
    {
     "data": {
      "text/plain": [
       "[(0, 0), (0, 1), (1, 0), (1, 1)]"
      ]
     },
     "execution_count": 2,
     "metadata": {},
     "output_type": "execute_result"
    }
   ],
   "source": [
    "Arcos_1=[(i,k) for i in fabricas for k in dc]\n",
    "Arcos_1"
   ]
  },
  {
   "cell_type": "code",
   "execution_count": 3,
   "metadata": {},
   "outputs": [
    {
     "data": {
      "text/plain": [
       "[(0, 0), (0, 1), (0, 2), (1, 0), (1, 1), (1, 2)]"
      ]
     },
     "execution_count": 3,
     "metadata": {},
     "output_type": "execute_result"
    }
   ],
   "source": [
    "Arcos_2=[(k,j) for k in dc for j in tiendas]\n",
    "Arcos_2"
   ]
  },
  {
   "cell_type": "code",
   "execution_count": 4,
   "metadata": {},
   "outputs": [],
   "source": [
    "capacidad={0:10000,1:12000}\n",
    "\n",
    "demanda={0:10000,1:7000,2:5000}\n",
    "\n",
    "costos_fab={(0, 0): 3000, (0, 1): 3500,(1, 0): 3500, \n",
    "        (1, 1): 3200}\n",
    "\n",
    "costos_dc={(0, 0): 2340, (0, 1): 3200,(0, 2): 2150,(1, 0): 2850, \n",
    "        (1, 1): 2950,(1,2):2200}"
   ]
  },
  {
   "cell_type": "markdown",
   "metadata": {},
   "source": [
    "# Paso 2: Modelar con Cplex"
   ]
  },
  {
   "cell_type": "code",
   "execution_count": 5,
   "metadata": {},
   "outputs": [],
   "source": [
    "from docplex.mp.model import Model\n",
    "\n",
    "mdl=Model('Transbordo')"
   ]
  },
  {
   "cell_type": "code",
   "execution_count": 6,
   "metadata": {},
   "outputs": [],
   "source": [
    "x=mdl.integer_var_dict(Arcos_1,name='x')\n",
    "y=mdl.integer_var_dict(Arcos_2,name='y')"
   ]
  },
  {
   "cell_type": "code",
   "execution_count": 7,
   "metadata": {},
   "outputs": [],
   "source": [
    "# Función Objetivo\n",
    "\n",
    "mdl.minimize(mdl.sum(x[i]*costos_fab[i] for i in Arcos_1)+ \n",
    "             mdl.sum(y[i]*costos_dc[i] for i in Arcos_2))"
   ]
  },
  {
   "cell_type": "code",
   "execution_count": 8,
   "metadata": {},
   "outputs": [],
   "source": [
    "# capacidad:\n",
    "\n",
    "for i in fabricas:\n",
    "    mdl.add_constraint(mdl.sum(x[(i,k)] for k in dc)<=capacidad[i])"
   ]
  },
  {
   "cell_type": "code",
   "execution_count": 9,
   "metadata": {},
   "outputs": [],
   "source": [
    "#Demanda \n",
    "\n",
    "for j in tiendas:\n",
    "     mdl.add_constraint(mdl.sum(y[(k,j)] for k in dc)>=demanda[j])"
   ]
  },
  {
   "cell_type": "code",
   "execution_count": 10,
   "metadata": {},
   "outputs": [],
   "source": [
    "# Consevación de flujo:\n",
    "\n",
    "for k in dc:\n",
    "    mdl.add_constraint(mdl.sum(x[(i,k)] for i in fabricas)== mdl.sum(y[(k,j)] for j in tiendas))"
   ]
  },
  {
   "cell_type": "code",
   "execution_count": 11,
   "metadata": {},
   "outputs": [
    {
     "name": "stdout",
     "output_type": "stream",
     "text": [
      "\\ This file has been generated by DOcplex\n",
      "\\ ENCODING=ISO-8859-1\n",
      "\\Problem name: Transbordo\n",
      "\n",
      "Minimize\n",
      " obj: 3000 x_(0,_0) + 3500 x_(0,_1) + 3500 x_(1,_0) + 3200 x_(1,_1)\n",
      "      + 2340 y_(0,_0) + 3200 y_(0,_1) + 2150 y_(0,_2) + 2850 y_(1,_0)\n",
      "      + 2950 y_(1,_1) + 2200 y_(1,_2)\n",
      "Subject To\n",
      " c1: x_(0,_0) + x_(0,_1) <= 10000\n",
      " c2: x_(1,_0) + x_(1,_1) <= 12000\n",
      " c3: y_(0,_0) + y_(1,_0) >= 10000\n",
      " c4: y_(0,_1) + y_(1,_1) >= 7000\n",
      " c5: y_(0,_2) + y_(1,_2) >= 5000\n",
      " c6: x_(0,_0) + x_(1,_0) - y_(0,_0) - y_(0,_1) - y_(0,_2) = 0\n",
      " c7: x_(0,_1) + x_(1,_1) - y_(1,_0) - y_(1,_1) - y_(1,_2) = 0\n",
      "\n",
      "Bounds\n",
      "\n",
      "Generals\n",
      " x_(0,_0) x_(0,_1) x_(1,_0) x_(1,_1) y_(0,_0) y_(0,_1) y_(0,_2) y_(1,_0)\n",
      " y_(1,_1) y_(1,_2)\n",
      "End\n",
      "\n"
     ]
    }
   ],
   "source": [
    "print(mdl.export_to_string())"
   ]
  },
  {
   "cell_type": "code",
   "execution_count": 12,
   "metadata": {},
   "outputs": [
    {
     "name": "stdout",
     "output_type": "stream",
     "text": [
      "CPXPARAM_Read_DataCheck                          1\n",
      "Tried aggregator 1 time.\n",
      "Reduced MIP has 7 rows, 10 columns, and 20 nonzeros.\n",
      "Reduced MIP has 0 binaries, 10 generals, 0 SOSs, and 0 indicators.\n",
      "Presolve time = 0.04 sec. (0.01 ticks)\n",
      "Found incumbent of value 1.3065000e+08 after 0.08 sec. (0.04 ticks)\n",
      "Tried aggregator 1 time.\n",
      "Reduced MIP has 7 rows, 10 columns, and 20 nonzeros.\n",
      "Reduced MIP has 0 binaries, 10 generals, 0 SOSs, and 0 indicators.\n",
      "Presolve time = 0.02 sec. (0.01 ticks)\n",
      "MIP emphasis: balance optimality and feasibility.\n",
      "MIP search method: dynamic search.\n",
      "Parallel mode: deterministic, using up to 4 threads.\n",
      "Root relaxation solution time = 0.01 sec. (0.01 ticks)\n",
      "\n",
      "        Nodes                                         Cuts/\n",
      "   Node  Left     Objective  IInf  Best Integer    Best Bound    ItCnt     Gap\n",
      "\n",
      "*     0+    0                       1.30650e+08        0.0000           100.00%\n",
      "*     0     0      integral     0   1.23450e+08   1.23450e+08        6    0.00%\n",
      "Elapsed time = 0.23 sec. (0.07 ticks, tree = 0.00 MB, solutions = 2)\n",
      "\n",
      "Root node processing (before b&c):\n",
      "  Real time             =    0.26 sec. (0.07 ticks)\n",
      "Parallel b&c, 4 threads:\n",
      "  Real time             =    0.00 sec. (0.00 ticks)\n",
      "  Sync time (average)   =    0.00 sec.\n",
      "  Wait time (average)   =    0.00 sec.\n",
      "                          ------------\n",
      "Total (root+branch&cut) =    0.26 sec. (0.07 ticks)\n"
     ]
    }
   ],
   "source": [
    "solucion=mdl.solve(log_output=True)"
   ]
  },
  {
   "cell_type": "code",
   "execution_count": 13,
   "metadata": {},
   "outputs": [
    {
     "data": {
      "text/plain": [
       "<JobSolveStatus.OPTIMAL_SOLUTION: 2>"
      ]
     },
     "execution_count": 13,
     "metadata": {},
     "output_type": "execute_result"
    }
   ],
   "source": [
    "mdl.get_solve_status()"
   ]
  },
  {
   "cell_type": "code",
   "execution_count": 14,
   "metadata": {},
   "outputs": [
    {
     "name": "stdout",
     "output_type": "stream",
     "text": [
      "solution for: Transbordo\n",
      "objective: 123450000\n",
      "x_(0, 0) = 10000\n",
      "x_(1, 1) = 12000\n",
      "y_(0, 0) = 10000\n",
      "y_(1, 1) = 7000\n",
      "y_(1, 2) = 5000\n"
     ]
    }
   ],
   "source": [
    "solucion.display()"
   ]
  },
  {
   "cell_type": "markdown",
   "metadata": {},
   "source": [
    "<img src=\"00 solucion 2.png\" width=\"400\" height=\"400\" />"
   ]
  },
  {
   "cell_type": "markdown",
   "metadata": {},
   "source": [
    "<div class=\"alert alert-info\"> </h4> **Ejercicio**:Con la información dada al inicio del ejercicios, cree un archivo excel y resuelva nuevamente el problema leyendo la información desde el archivo excel creado.\n",
    "</h4> </div>"
   ]
  },
  {
   "cell_type": "code",
   "execution_count": null,
   "metadata": {},
   "outputs": [],
   "source": []
  }
 ],
 "metadata": {
  "kernelspec": {
   "display_name": "Python 3",
   "language": "python",
   "name": "python3"
  },
  "language_info": {
   "codemirror_mode": {
    "name": "ipython",
    "version": 3
   },
   "file_extension": ".py",
   "mimetype": "text/x-python",
   "name": "python",
   "nbconvert_exporter": "python",
   "pygments_lexer": "ipython3",
   "version": "3.6.3"
  }
 },
 "nbformat": 4,
 "nbformat_minor": 2
}
