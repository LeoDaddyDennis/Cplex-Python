{
 "cells": [
  {
   "cell_type": "markdown",
   "metadata": {},
   "source": [
    "![title](UCN.png)\n",
    "\n",
    " #  <font color=blue> Optimización con Python & Cplex - Transporte </font>\n",
    "\n",
    "<div class=\"alert alert-info\"> </h4> Material preparado para la carrera de Ingeniería Civil Industrial | Universidad Católica del Norte | Escuela de Ingeniería - Campus Coquimbo | Curso - Cadena de Suministros.                                                                          \n",
    "© Sergio Correa Santis, Ingenerio Industrial UCN, Master of International Business UQ, Master Engeneering of Supply Chain and Logistics, MIT ZLC-Global Scale.                               Contacto: sergio.correa@ucn.cl o sergio.correa.santis@gmail.com\n",
    "</h4> </div>\n",
    "\n",
    "## Modelo de Transporte\n",
    "\n",
    "El modelo de transporte es una clase especial de programación lineal que tiene que ver con transportar un artículo desde sus fuentes hasta sus destinos. El objetivo es determinar el programa de transporte que minimice el costo total del transporte y que al mismo tiempo satisfaga los límites de la oferta y la demanda. En el modelo se supone que el costo de transporte es proporcional a la cantidad de unidades transportadas en determinada ruta.\n",
    "**En general, se puede ampliar el modelo de transporte a otras áreas de operación, entre otras el control de inventarios, programación de empleos y asignación de personal.**\n",
    "\n",
    "<img src=\"transporte.png\" width=\"400\" height=\"400\" />\n",
    "\n",
    "El problema general se representa en la red de la figura anterior. Hay n fuentes y m destinos, cada fuente y cada destino están representados por un **nodo**. Los **arcos representan las rutas que enlazan las fuentes y los destinos**. El **arco (i, j)** que une a la fuente i con el destino j conduce dos clases de información: el costo de transporte $c_{ij}$ por unidad, y la cantidad transportada $x_{ij}$. La cantidad de oferta en la fuente i es $s_i$ y la cantidad de demanda en el destino j es $d_j$. El objetivo del modelo es determinar las incógnitas $x_{ij}$ que minimicen el costo total de transporte, y que al mismo tiempo satisfagan las restricciones de oferta y demanda.\n",
    "\n",
    "### El Modelo de Programación Lineal\n",
    "\n",
    "$Min \\; Z= \\; \\displaystyle\\sum_{i=1}^{n}\\sum_{j=1}^{m} x_{ij}c_{ij}$\n",
    "\n",
    "$\\displaystyle\\sum_{j=1}^{m}x_{ij}\\leq s_i$     $\\; \\; \\forall \\;i \\; \\in \\; n$\n",
    "\n",
    "$\\displaystyle\\sum_{i=1}^{n}x_{ij}\\geq d_j$     $\\; \\; \\forall \\;j \\; \\in \\; m$\n",
    "\n",
    "Es importante recordar que para que el problema tenga una solución factible  se debe cumplir la condición de que la oferta disponible o la capacidad disponible sea igual a la demanda $\\displaystyle\\sum_{i=1}^{n}s_{i}=\\displaystyle\\sum_{j=1}^{m}d_{i}$.En el caso de que esto no se cumpla se puede utilizar nodos ficticios.\n",
    "\n",
    "### El probelma\n",
    "Colum es un popular fabricante de yogur griego en Chile. La compañía tiene instalaciones de producción en Osorno, Valdivia y Puerto Fuy, que pueden producir 10.000 yogurts por semana.\n",
    "\n",
    "Uno de los principales clientes de Colum, un supermercado llamado Diler, el cual ha realizado un pedido grande. Diler distribuye su pedido en sus 3 instalaciones ubicadas en Puerto Montt, Temuco y Villarica. \n",
    "\n",
    "Colum junto con llevar toda la magia del sur a su casa, quiere minimizar sus costos de transporte mientras satisface el pedido de Diler.\n",
    "\n",
    "Los costos de transporte entre cada instalación, la capacidad de producción y la demanda de cada destinos están en las tablas a continuación.\n",
    "#### Capacidad de Producción  por Plantas ($s_i$)\n",
    "\n",
    "|Osorno|Valdivía|Puerto Fuy|\n",
    "|------|------|------|\n",
    "|10,000  |10,000  |10,000  | \n",
    "\n",
    "#### Demanda de por Supermercado ($d_i$)\n",
    "\n",
    "|Puerto Montt|Temuco|Villarica|\n",
    "|------|------|------|\n",
    "|11,000  |6,300  |7,400  | \n",
    "\n",
    "#### Costo de Transporte ($c_{ij}$)\n",
    "\n",
    "| |Puerto Montt|Temuco|Villarica|\n",
    "|-|------|------|------|\n",
    "|Osorno|1.04  |1.27  |1.22  | \n",
    "|Valdivia|1.23  |1.93  |0.6  | \n",
    "|Puerto Fuy|1.92  |0.94  |1.03  | "
   ]
  },
  {
   "cell_type": "code",
   "execution_count": 1,
   "metadata": {},
   "outputs": [
    {
     "data": {
      "image/jpeg": "[encoded data removed]",
      "text/html": [
       "\n",
       "        <iframe\n",
       "            width=\"400\"\n",
       "            height=\"300\"\n",
       "            src=\"https://www.youtube.com/embed/76lkfafuY4U\"\n",
       "            frameborder=\"0\"\n",
       "            allowfullscreen\n",
       "        ></iframe>\n",
       "        "
      ],
      "text/plain": [
       "<IPython.lib.display.YouTubeVideo at 0x108b3e898>"
      ]
     },
     "execution_count": 1,
     "metadata": {},
     "output_type": "execute_result"
    }
   ],
   "source": [
    "from IPython.display import YouTubeVideo\n",
    "YouTubeVideo('76lkfafuY4U')"
   ]
  },
  {
   "cell_type": "code",
   "execution_count": 2,
   "metadata": {},
   "outputs": [
    {
     "name": "stdout",
     "output_type": "stream",
     "text": [
      "[0, 1, 2]\n",
      "[0, 1, 2]\n"
     ]
    }
   ],
   "source": [
    "plantas=[k for k in range(3)]\n",
    "print(plantas)\n",
    "\n",
    "destinos=[k for k in range(3)]\n",
    "print(destinos)"
   ]
  },
  {
   "cell_type": "code",
   "execution_count": 3,
   "metadata": {},
   "outputs": [
    {
     "data": {
      "text/plain": [
       "[(0, 0), (0, 1), (0, 2), (1, 0), (1, 1), (1, 2), (2, 0), (2, 1), (2, 2)]"
      ]
     },
     "execution_count": 3,
     "metadata": {},
     "output_type": "execute_result"
    }
   ],
   "source": [
    "Arcos =[(i,j) for i in plantas for j in destinos]\n",
    "Arcos"
   ]
  },
  {
   "cell_type": "code",
   "execution_count": 4,
   "metadata": {},
   "outputs": [],
   "source": [
    "# Creando los diccionarios a utilizar en el modelo\n",
    "\n",
    "Capacidad={0: 10000, 1: 10000, 2: 10000}\n",
    "Demanda={0: 11000, 1: 6300, 2: 7400}\n",
    "Costos={(0, 0): 1.04, (0, 1): 1.27, (0, 2): 1.22, (1, 0): 1.23, \n",
    "        (1, 1): 1.93, (1, 2): 0.6, (2, 0): 1.92, (2, 1): 0.94, (2, 2): 1.03}"
   ]
  },
  {
   "cell_type": "code",
   "execution_count": 5,
   "metadata": {},
   "outputs": [],
   "source": [
    "from docplex.mp.model import Model\n",
    "import docplex.mp.solution as Solucion\n",
    "\n",
    "mdl=Model('Transp')"
   ]
  },
  {
   "cell_type": "code",
   "execution_count": 6,
   "metadata": {},
   "outputs": [],
   "source": [
    "#Variable entera de cantidad a producir\n",
    "x=mdl.integer_var_dict(Arcos,name='x')"
   ]
  },
  {
   "cell_type": "code",
   "execution_count": 7,
   "metadata": {},
   "outputs": [],
   "source": [
    "#Función objetivo\n",
    "mdl.minimize(mdl.sum(x[i]*Costos[i] for i in Arcos))"
   ]
  },
  {
   "cell_type": "code",
   "execution_count": 8,
   "metadata": {},
   "outputs": [],
   "source": [
    "# Primero restricción de capacidad\n",
    "for k in plantas:\n",
    "    mdl.add_constraint(mdl.sum(x[(k,j)] for j in Demanda)<=Capacidad[k])"
   ]
  },
  {
   "cell_type": "code",
   "execution_count": 9,
   "metadata": {},
   "outputs": [],
   "source": [
    "# Segundo restricción de demanda\n",
    "for k in Demanda:\n",
    "    mdl.add_constraint(mdl.sum(x[(i,k)] for i in Capacidad)>=Demanda[k])"
   ]
  },
  {
   "cell_type": "code",
   "execution_count": 10,
   "metadata": {},
   "outputs": [
    {
     "name": "stdout",
     "output_type": "stream",
     "text": [
      "\\ This file has been generated by DOcplex\n",
      "\\ ENCODING=ISO-8859-1\n",
      "\\Problem name: Transp\n",
      "\n",
      "Minimize\n",
      " obj: 1.040000000000 x_(0,_0) + 1.270000000000 x_(0,_1)\n",
      "      + 1.220000000000 x_(0,_2) + 1.230000000000 x_(1,_0)\n",
      "      + 1.930000000000 x_(1,_1) + 0.600000000000 x_(1,_2)\n",
      "      + 1.920000000000 x_(2,_0) + 0.940000000000 x_(2,_1)\n",
      "      + 1.030000000000 x_(2,_2)\n",
      "Subject To\n",
      " c1: x_(0,_0) + x_(0,_1) + x_(0,_2) <= 10000\n",
      " c2: x_(1,_0) + x_(1,_1) + x_(1,_2) <= 10000\n",
      " c3: x_(2,_0) + x_(2,_1) + x_(2,_2) <= 10000\n",
      " c4: x_(0,_0) + x_(1,_0) + x_(2,_0) >= 11000\n",
      " c5: x_(0,_1) + x_(1,_1) + x_(2,_1) >= 6300\n",
      " c6: x_(0,_2) + x_(1,_2) + x_(2,_2) >= 7400\n",
      "\n",
      "Bounds\n",
      "\n",
      "Generals\n",
      " x_(0,_0) x_(0,_1) x_(0,_2) x_(1,_0) x_(1,_1) x_(1,_2) x_(2,_0) x_(2,_1)\n",
      " x_(2,_2)\n",
      "End\n",
      "\n"
     ]
    }
   ],
   "source": [
    "print(mdl.export_to_string())"
   ]
  },
  {
   "cell_type": "code",
   "execution_count": 11,
   "metadata": {},
   "outputs": [
    {
     "name": "stdout",
     "output_type": "stream",
     "text": [
      "CPXPARAM_Read_DataCheck                          1\n",
      "Found incumbent of value 30250.000000 after 0.00 sec. (0.00 ticks)\n",
      "Tried aggregator 1 time.\n",
      "Reduced MIP has 6 rows, 9 columns, and 18 nonzeros.\n",
      "Reduced MIP has 0 binaries, 9 generals, 0 SOSs, and 0 indicators.\n",
      "Presolve time = 0.01 sec. (0.01 ticks)\n",
      "Tried aggregator 1 time.\n",
      "Reduced MIP has 6 rows, 9 columns, and 18 nonzeros.\n",
      "Reduced MIP has 0 binaries, 9 generals, 0 SOSs, and 0 indicators.\n",
      "Presolve time = 0.01 sec. (0.01 ticks)\n",
      "MIP emphasis: balance optimality and feasibility.\n",
      "MIP search method: dynamic search.\n",
      "Parallel mode: deterministic, using up to 4 threads.\n",
      "Root relaxation solution time = 0.00 sec. (0.01 ticks)\n",
      "\n",
      "        Nodes                                         Cuts/\n",
      "   Node  Left     Objective  IInf  Best Integer    Best Bound    ItCnt     Gap\n",
      "\n",
      "*     0+    0                        30250.0000        0.0000           100.00%\n",
      "*     0     0      integral     0    21992.0000    21992.0000        3    0.00%\n",
      "Elapsed time = 0.08 sec. (0.04 ticks, tree = 0.00 MB, solutions = 2)\n",
      "\n",
      "Root node processing (before b&c):\n",
      "  Real time             =    0.10 sec. (0.04 ticks)\n",
      "Parallel b&c, 4 threads:\n",
      "  Real time             =    0.00 sec. (0.00 ticks)\n",
      "  Sync time (average)   =    0.00 sec.\n",
      "  Wait time (average)   =    0.00 sec.\n",
      "                          ------------\n",
      "Total (root+branch&cut) =    0.10 sec. (0.04 ticks)\n"
     ]
    }
   ],
   "source": [
    "solucion = mdl.solve(log_output=True)"
   ]
  },
  {
   "cell_type": "code",
   "execution_count": 12,
   "metadata": {},
   "outputs": [
    {
     "data": {
      "text/plain": [
       "<JobSolveStatus.OPTIMAL_SOLUTION: 2>"
      ]
     },
     "execution_count": 12,
     "metadata": {},
     "output_type": "execute_result"
    }
   ],
   "source": [
    "mdl.get_solve_status()"
   ]
  },
  {
   "cell_type": "code",
   "execution_count": 13,
   "metadata": {},
   "outputs": [
    {
     "name": "stdout",
     "output_type": "stream",
     "text": [
      "solution for: Transp\n",
      "objective: 21992.000\n",
      "x_(0, 0) = 10000\n",
      "x_(1, 0) = 1000\n",
      "x_(1, 2) = 7400\n",
      "x_(2, 1) = 6300\n"
     ]
    }
   ],
   "source": [
    "solucion.display()"
   ]
  },
  {
   "cell_type": "markdown",
   "metadata": {},
   "source": [
    "<img src=\"00 solucion 1.png\" width=\"400\" height=\"400\" />"
   ]
  },
  {
   "cell_type": "markdown",
   "metadata": {},
   "source": [
    "Ahora, realizaremos el mismo ejercicio pero leyendo los datos desde un archivo excel."
   ]
  },
  {
   "cell_type": "markdown",
   "metadata": {},
   "source": [
    "## Leyendo la información desde Excel\n",
    "\n",
    "Ahora resolveremos el mismo ejercicio, pero en vez de crear nosotros los datos, los leeremos desde excel. Para esto utilizaremos la librería **pandas**. Con esta librería importaremos los datos desde excel y los importaremos a un **DataFrame**. Despues de esto, leeremos los datos desde el Dataframe y creamos las mismas estructuras de datos ( diccionarios) como en el ejemplo anterior."
   ]
  },
  {
   "cell_type": "code",
   "execution_count": 14,
   "metadata": {},
   "outputs": [],
   "source": [
    "import pandas as pd"
   ]
  },
  {
   "cell_type": "code",
   "execution_count": 15,
   "metadata": {},
   "outputs": [],
   "source": [
    "excel=pd.ExcelFile('Transporte_ejemplo.xlsx')\n",
    "demanda =pd.read_excel(excel,'Demanda')\n",
    "produccion =pd.read_excel(excel,'Produccion')\n",
    "costos =pd.read_excel(excel,'Costos')"
   ]
  },
  {
   "cell_type": "code",
   "execution_count": 16,
   "metadata": {},
   "outputs": [
    {
     "data": {
      "text/html": [
       "<div>\n",
       "<style>\n",
       "    .dataframe thead tr:only-child th {\n",
       "        text-align: right;\n",
       "    }\n",
       "\n",
       "    .dataframe thead th {\n",
       "        text-align: left;\n",
       "    }\n",
       "\n",
       "    .dataframe tbody tr th {\n",
       "        vertical-align: top;\n",
       "    }\n",
       "</style>\n",
       "<table border=\"1\" class=\"dataframe\">\n",
       "  <thead>\n",
       "    <tr style=\"text-align: right;\">\n",
       "      <th></th>\n",
       "      <th>Destinos</th>\n",
       "      <th>Demanda de Containers</th>\n",
       "    </tr>\n",
       "  </thead>\n",
       "  <tbody>\n",
       "    <tr>\n",
       "      <th>0</th>\n",
       "      <td>Puerto Montt</td>\n",
       "      <td>11000</td>\n",
       "    </tr>\n",
       "    <tr>\n",
       "      <th>1</th>\n",
       "      <td>Temuco</td>\n",
       "      <td>6300</td>\n",
       "    </tr>\n",
       "    <tr>\n",
       "      <th>2</th>\n",
       "      <td>Villarica</td>\n",
       "      <td>7400</td>\n",
       "    </tr>\n",
       "  </tbody>\n",
       "</table>\n",
       "</div>"
      ],
      "text/plain": [
       "       Destinos  Demanda de Containers\n",
       "0  Puerto Montt                  11000\n",
       "1        Temuco                   6300\n",
       "2     Villarica                   7400"
      ]
     },
     "execution_count": 16,
     "metadata": {},
     "output_type": "execute_result"
    }
   ],
   "source": [
    "demanda.head()"
   ]
  },
  {
   "cell_type": "code",
   "execution_count": 17,
   "metadata": {},
   "outputs": [
    {
     "data": {
      "text/html": [
       "<div>\n",
       "<style>\n",
       "    .dataframe thead tr:only-child th {\n",
       "        text-align: right;\n",
       "    }\n",
       "\n",
       "    .dataframe thead th {\n",
       "        text-align: left;\n",
       "    }\n",
       "\n",
       "    .dataframe tbody tr th {\n",
       "        vertical-align: top;\n",
       "    }\n",
       "</style>\n",
       "<table border=\"1\" class=\"dataframe\">\n",
       "  <thead>\n",
       "    <tr style=\"text-align: right;\">\n",
       "      <th></th>\n",
       "      <th>Planta</th>\n",
       "      <th>Capacidad de Produccion</th>\n",
       "    </tr>\n",
       "  </thead>\n",
       "  <tbody>\n",
       "    <tr>\n",
       "      <th>0</th>\n",
       "      <td>Osorno</td>\n",
       "      <td>10000</td>\n",
       "    </tr>\n",
       "    <tr>\n",
       "      <th>1</th>\n",
       "      <td>Valdivia</td>\n",
       "      <td>10000</td>\n",
       "    </tr>\n",
       "    <tr>\n",
       "      <th>2</th>\n",
       "      <td>Puerto Fuy</td>\n",
       "      <td>10000</td>\n",
       "    </tr>\n",
       "  </tbody>\n",
       "</table>\n",
       "</div>"
      ],
      "text/plain": [
       "       Planta  Capacidad de Produccion\n",
       "0      Osorno                    10000\n",
       "1    Valdivia                    10000\n",
       "2  Puerto Fuy                    10000"
      ]
     },
     "execution_count": 17,
     "metadata": {},
     "output_type": "execute_result"
    }
   ],
   "source": [
    "produccion"
   ]
  },
  {
   "cell_type": "code",
   "execution_count": 18,
   "metadata": {},
   "outputs": [
    {
     "data": {
      "text/html": [
       "<div>\n",
       "<style>\n",
       "    .dataframe thead tr:only-child th {\n",
       "        text-align: right;\n",
       "    }\n",
       "\n",
       "    .dataframe thead th {\n",
       "        text-align: left;\n",
       "    }\n",
       "\n",
       "    .dataframe tbody tr th {\n",
       "        vertical-align: top;\n",
       "    }\n",
       "</style>\n",
       "<table border=\"1\" class=\"dataframe\">\n",
       "  <thead>\n",
       "    <tr style=\"text-align: right;\">\n",
       "      <th></th>\n",
       "      <th>Planta de producción</th>\n",
       "      <th>Destination de la Producción</th>\n",
       "      <th>Costo de Envio</th>\n",
       "    </tr>\n",
       "  </thead>\n",
       "  <tbody>\n",
       "    <tr>\n",
       "      <th>0</th>\n",
       "      <td>Osorno</td>\n",
       "      <td>Puerto Montt</td>\n",
       "      <td>1.04</td>\n",
       "    </tr>\n",
       "    <tr>\n",
       "      <th>1</th>\n",
       "      <td>Osorno</td>\n",
       "      <td>Temuco</td>\n",
       "      <td>1.27</td>\n",
       "    </tr>\n",
       "    <tr>\n",
       "      <th>2</th>\n",
       "      <td>Osorno</td>\n",
       "      <td>Villarica</td>\n",
       "      <td>1.22</td>\n",
       "    </tr>\n",
       "    <tr>\n",
       "      <th>3</th>\n",
       "      <td>Valdivia</td>\n",
       "      <td>Puerto Montt</td>\n",
       "      <td>1.23</td>\n",
       "    </tr>\n",
       "    <tr>\n",
       "      <th>4</th>\n",
       "      <td>Valdivia</td>\n",
       "      <td>Temuco</td>\n",
       "      <td>1.93</td>\n",
       "    </tr>\n",
       "    <tr>\n",
       "      <th>5</th>\n",
       "      <td>Valdivia</td>\n",
       "      <td>Villarica</td>\n",
       "      <td>0.60</td>\n",
       "    </tr>\n",
       "    <tr>\n",
       "      <th>6</th>\n",
       "      <td>Puerto Fuy</td>\n",
       "      <td>Puerto Montt</td>\n",
       "      <td>1.92</td>\n",
       "    </tr>\n",
       "    <tr>\n",
       "      <th>7</th>\n",
       "      <td>Puerto Fuy</td>\n",
       "      <td>Temuco</td>\n",
       "      <td>0.94</td>\n",
       "    </tr>\n",
       "    <tr>\n",
       "      <th>8</th>\n",
       "      <td>Puerto Fuy</td>\n",
       "      <td>Villarica</td>\n",
       "      <td>1.03</td>\n",
       "    </tr>\n",
       "  </tbody>\n",
       "</table>\n",
       "</div>"
      ],
      "text/plain": [
       "  Planta de producción Destination de la Producción  Costo de Envio\n",
       "0               Osorno                 Puerto Montt            1.04\n",
       "1               Osorno                       Temuco            1.27\n",
       "2               Osorno                    Villarica            1.22\n",
       "3             Valdivia                 Puerto Montt            1.23\n",
       "4             Valdivia                       Temuco            1.93\n",
       "5             Valdivia                    Villarica            0.60\n",
       "6           Puerto Fuy                 Puerto Montt            1.92\n",
       "7           Puerto Fuy                       Temuco            0.94\n",
       "8           Puerto Fuy                    Villarica            1.03"
      ]
     },
     "execution_count": 18,
     "metadata": {},
     "output_type": "execute_result"
    }
   ],
   "source": [
    "costos"
   ]
  },
  {
   "cell_type": "markdown",
   "metadata": {},
   "source": [
    "## Transformar datos a Diccionarios "
   ]
  },
  {
   "cell_type": "code",
   "execution_count": 19,
   "metadata": {},
   "outputs": [
    {
     "name": "stdout",
     "output_type": "stream",
     "text": [
      "[0, 1, 2]\n",
      "[0, 1, 2]\n"
     ]
    }
   ],
   "source": [
    "plantas=[k for k in range(len(produccion))]\n",
    "print(plantas)\n",
    "destinos=[k for k in range(len(demanda))]\n",
    "print(destinos)"
   ]
  },
  {
   "cell_type": "code",
   "execution_count": 20,
   "metadata": {},
   "outputs": [
    {
     "data": {
      "text/plain": [
       "[(0, 0), (0, 1), (0, 2), (1, 0), (1, 1), (1, 2), (2, 0), (2, 1), (2, 2)]"
      ]
     },
     "execution_count": 20,
     "metadata": {},
     "output_type": "execute_result"
    }
   ],
   "source": [
    "Arcos =[(i,j) for i in plantas for j in destinos]\n",
    "Arcos"
   ]
  },
  {
   "cell_type": "code",
   "execution_count": 21,
   "metadata": {},
   "outputs": [
    {
     "data": {
      "text/plain": [
       "{0: 11000, 1: 6300, 2: 7400}"
      ]
     },
     "execution_count": 21,
     "metadata": {},
     "output_type": "execute_result"
    }
   ],
   "source": [
    "Demanda = {k: row['Demanda de Containers'] for k, row in demanda.iterrows()}\n",
    "Demanda"
   ]
  },
  {
   "cell_type": "code",
   "execution_count": 22,
   "metadata": {},
   "outputs": [
    {
     "data": {
      "text/plain": [
       "{0: 10000, 1: 10000, 2: 10000}"
      ]
     },
     "execution_count": 22,
     "metadata": {},
     "output_type": "execute_result"
    }
   ],
   "source": [
    "Produccion = {k: row['Capacidad de Produccion'] for k, row in produccion.iterrows()}\n",
    "Produccion"
   ]
  },
  {
   "cell_type": "code",
   "execution_count": 23,
   "metadata": {},
   "outputs": [
    {
     "data": {
      "text/plain": [
       "{0: 1.04,\n",
       " 1: 1.27,\n",
       " 2: 1.22,\n",
       " 3: 1.23,\n",
       " 4: 1.93,\n",
       " 5: 0.6,\n",
       " 6: 1.92,\n",
       " 7: 0.94,\n",
       " 8: 1.03}"
      ]
     },
     "execution_count": 23,
     "metadata": {},
     "output_type": "execute_result"
    }
   ],
   "source": [
    "Costos_1 = {k: row['Costo de Envio'] for k, row in costos.iterrows()}\n",
    "Costos_1"
   ]
  },
  {
   "cell_type": "code",
   "execution_count": 24,
   "metadata": {},
   "outputs": [
    {
     "name": "stdout",
     "output_type": "stream",
     "text": [
      "{(0, 0): 1.04, (0, 1): 1.27, (0, 2): 1.22, (1, 0): 1.23, (1, 1): 1.93, (1, 2): 0.6, (2, 0): 1.92, (2, 1): 0.94, (2, 2): 1.03}\n"
     ]
    }
   ],
   "source": [
    "Costos={Arcos[k]:Costos_1[k] for k in Costos_1}\n",
    "print(Costos)"
   ]
  },
  {
   "cell_type": "code",
   "execution_count": 25,
   "metadata": {},
   "outputs": [],
   "source": [
    "from docplex.mp.model import Model\n",
    "import docplex.mp.solution as Solucion\n",
    "\n",
    "mdl=Model('Transp')"
   ]
  },
  {
   "cell_type": "code",
   "execution_count": 26,
   "metadata": {},
   "outputs": [],
   "source": [
    "#Variable entera de cantidad a producir\n",
    "x=mdl.integer_var_dict(Arcos,name='x')"
   ]
  },
  {
   "cell_type": "code",
   "execution_count": 27,
   "metadata": {},
   "outputs": [],
   "source": [
    "#Función objetivo\n",
    "mdl.minimize(mdl.sum(x[i]*Costos[i] for i in Arcos))"
   ]
  },
  {
   "cell_type": "code",
   "execution_count": 28,
   "metadata": {},
   "outputs": [],
   "source": [
    "# Primero restricción de capacidad\n",
    "for k in plantas:\n",
    "    mdl.add_constraint(mdl.sum(x[(k,j)] for j in Demanda)<=Produccion[k])"
   ]
  },
  {
   "cell_type": "code",
   "execution_count": 29,
   "metadata": {},
   "outputs": [],
   "source": [
    "# Segundo restricción de demanda\n",
    "for k in Demanda:\n",
    "    mdl.add_constraint(mdl.sum(x[(i,k)] for i in Produccion)>=Demanda[k])"
   ]
  },
  {
   "cell_type": "code",
   "execution_count": 30,
   "metadata": {},
   "outputs": [
    {
     "name": "stdout",
     "output_type": "stream",
     "text": [
      "\\ This file has been generated by DOcplex\n",
      "\\ ENCODING=ISO-8859-1\n",
      "\\Problem name: Transp\n",
      "\n",
      "Minimize\n",
      " obj: 1.040000000000 x_(0,_0) + 1.270000000000 x_(0,_1)\n",
      "      + 1.220000000000 x_(0,_2) + 1.230000000000 x_(1,_0)\n",
      "      + 1.930000000000 x_(1,_1) + 0.600000000000 x_(1,_2)\n",
      "      + 1.920000000000 x_(2,_0) + 0.940000000000 x_(2,_1)\n",
      "      + 1.030000000000 x_(2,_2)\n",
      "Subject To\n",
      " c1: x_(0,_0) + x_(0,_1) + x_(0,_2) <= 10000\n",
      " c2: x_(1,_0) + x_(1,_1) + x_(1,_2) <= 10000\n",
      " c3: x_(2,_0) + x_(2,_1) + x_(2,_2) <= 10000\n",
      " c4: x_(0,_0) + x_(1,_0) + x_(2,_0) >= 11000\n",
      " c5: x_(0,_1) + x_(1,_1) + x_(2,_1) >= 6300\n",
      " c6: x_(0,_2) + x_(1,_2) + x_(2,_2) >= 7400\n",
      "\n",
      "Bounds\n",
      "\n",
      "Generals\n",
      " x_(0,_0) x_(0,_1) x_(0,_2) x_(1,_0) x_(1,_1) x_(1,_2) x_(2,_0) x_(2,_1)\n",
      " x_(2,_2)\n",
      "End\n",
      "\n"
     ]
    }
   ],
   "source": [
    "print(mdl.export_to_string())"
   ]
  },
  {
   "cell_type": "code",
   "execution_count": 31,
   "metadata": {},
   "outputs": [
    {
     "name": "stdout",
     "output_type": "stream",
     "text": [
      "CPXPARAM_Read_DataCheck                          1\n",
      "Found incumbent of value 30250.000000 after 0.00 sec. (0.00 ticks)\n",
      "Tried aggregator 1 time.\n",
      "Reduced MIP has 6 rows, 9 columns, and 18 nonzeros.\n",
      "Reduced MIP has 0 binaries, 9 generals, 0 SOSs, and 0 indicators.\n",
      "Presolve time = 0.01 sec. (0.01 ticks)\n",
      "Tried aggregator 1 time.\n",
      "Reduced MIP has 6 rows, 9 columns, and 18 nonzeros.\n",
      "Reduced MIP has 0 binaries, 9 generals, 0 SOSs, and 0 indicators.\n",
      "Presolve time = 0.01 sec. (0.01 ticks)\n",
      "MIP emphasis: balance optimality and feasibility.\n",
      "MIP search method: dynamic search.\n",
      "Parallel mode: deterministic, using up to 4 threads.\n",
      "Root relaxation solution time = 0.00 sec. (0.01 ticks)\n",
      "\n",
      "        Nodes                                         Cuts/\n",
      "   Node  Left     Objective  IInf  Best Integer    Best Bound    ItCnt     Gap\n",
      "\n",
      "*     0+    0                        30250.0000        0.0000           100.00%\n",
      "*     0     0      integral     0    21992.0000    21992.0000        3    0.00%\n",
      "Elapsed time = 0.07 sec. (0.04 ticks, tree = 0.00 MB, solutions = 2)\n",
      "\n",
      "Root node processing (before b&c):\n",
      "  Real time             =    0.09 sec. (0.04 ticks)\n",
      "Parallel b&c, 4 threads:\n",
      "  Real time             =    0.00 sec. (0.00 ticks)\n",
      "  Sync time (average)   =    0.00 sec.\n",
      "  Wait time (average)   =    0.00 sec.\n",
      "                          ------------\n",
      "Total (root+branch&cut) =    0.09 sec. (0.04 ticks)\n"
     ]
    }
   ],
   "source": [
    "solucion = mdl.solve(log_output=True)"
   ]
  },
  {
   "cell_type": "code",
   "execution_count": 32,
   "metadata": {},
   "outputs": [
    {
     "data": {
      "text/plain": [
       "<JobSolveStatus.OPTIMAL_SOLUTION: 2>"
      ]
     },
     "execution_count": 32,
     "metadata": {},
     "output_type": "execute_result"
    }
   ],
   "source": [
    "mdl.get_solve_status()"
   ]
  },
  {
   "cell_type": "code",
   "execution_count": 33,
   "metadata": {},
   "outputs": [
    {
     "name": "stdout",
     "output_type": "stream",
     "text": [
      "solution for: Transp\n",
      "objective: 21992.000\n",
      "x_(0, 0) = 10000\n",
      "x_(1, 0) = 1000\n",
      "x_(1, 2) = 7400\n",
      "x_(2, 1) = 6300\n"
     ]
    }
   ],
   "source": [
    "solucion.display()"
   ]
  },
  {
   "cell_type": "markdown",
   "metadata": {},
   "source": [
    "<div class=\"alert alert-info\"> </h4> Material preparado para la carrera de Ingeniería Civil Industrial | Universidad Católica del Norte | Escuela de Ingeniería - Campus Coquimbo | Curso - Cadena de Suministros.                                                                          \n",
    "© Sergio Correa Santis, Ingenerio Industrial UCN, Master of International Business UQ, Master Engeneering of Supply Chain and Logistics, MIT ZLC-Global Scale.                               Contacto: sergio.correa@ucn.cl o sergio.correa.santis@gmail.com\n",
    "</h4> </div>"
   ]
  },
  {
   "cell_type": "code",
   "execution_count": null,
   "metadata": {},
   "outputs": [],
   "source": []
  }
 ],
 "metadata": {
  "kernelspec": {
   "display_name": "Python 3",
   "language": "python",
   "name": "python3"
  },
  "language_info": {
   "codemirror_mode": {
    "name": "ipython",
    "version": 3
   },
   "file_extension": ".py",
   "mimetype": "text/x-python",
   "name": "python",
   "nbconvert_exporter": "python",
   "pygments_lexer": "ipython3",
   "version": "3.6.3"
  }
 },
 "nbformat": 4,
 "nbformat_minor": 2
}
