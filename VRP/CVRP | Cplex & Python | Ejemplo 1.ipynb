{
 "cells": [
  {
   "cell_type": "markdown",
   "metadata": {},
   "source": [
    "![title](UCN.png)\n",
    "\n",
    " #  <font color=blue> Vehicle Routing Problem - VRP | Cplex | V[1]. </font>\n",
    "\n",
    "<div class=\"alert alert-info\"> </h4> **Material preparado para la carrera de Ingeniería Civil Industrial | Universidad Católica del Norte | Escuela de Ingeniería - Campus Coquimbo | Curso - Cadena de Suministros.**\n",
    "</h4> </div>\n",
    "\n",
    "## **Problema**\n",
    "\n",
    "\n",
    "El problema de la ruta de vehículos, es un problema de optimización combinatoria y de programación de entero qué pregunta \"¿Cuál es el conjunto óptimo de rutas para una flota de vehículos que debe satisfacer las demandas de un conjunto dado de clientes?\". Es una generalización del conocido Problema del Viajante (TSP). La primera definición aparece en una artículo de George Dantzig y John Ramser en 1959, en donde plantea una aproximación algorítmica y fue aplicado para entregas de gasolina. El problema, requiere la entrega de cierto producto, almacenado en un único local, a los clientes los cuales poseen cierta demanda; el objetivo fundamental es minimizar el coste total de las rutas trazadas. En 1964, Clarke y Wright mejoraron la aproximación de Dantzig y Ramser utilizando una aproximación “greedy” conocido como algoritmo de ahorros.\n",
    "\n",
    "Determinar la solución óptima es un problema NP-hard de optimización combinatoria. Las implementaciones más utilizadas para resolver el problema se basan en heurísticas debido a que para grandes instancias del problema, que como sucede en ejemplos reales, producen buenos resultados. El VRP tiene muchas aplicaciones obvias en industrias.\n",
    "\n",
    "<img src=\"VRP-3.png\" width=\"700\" height=\"700\" />\n",
    "\n",
    "Fuente: [Wikipedia | Vehicule Routing Problem](https://es.wikipedia.org/wiki/Problema_de_enrutamiento_de_veh%C3%ADculos)\n",
    "\n",
    "**El VRP se encarga del servicio de una compañía de entrega, un depósito y un conjunto dado de vehículos, los cuales se mueven en una red de carretera dada, para entregar los productos a un conjunto de clientes. Determina un conjunto de rutas, S, (una ruta para cada vehículo que inicia y termina en el depósito) tal que todas las demandas de los clientes son satisfechas y el coste de la transportación total está minimizado. Esto cuesto puede ser monetario, distancia, tiempo, etc.**\n",
    "\n",
    "La red de carretera puede ser descrita utilizando un grafo donde los arcos son las carreteras y los vértices representan la localización de los clientes y del depósito. Los arcos pueden ser dirigidos o no, debido a costes diferentes en cada dirección o alguna variante del problema. Cada arco tiene un coste asociado.\n",
    "\n",
    "La función objetiva de un VRP puede ser muy diferente dependiendo de la aplicación particular del resultado, unos de los objetivos más comunes son:\n",
    "\n",
    "- Minimizar el coste total del transporte basado en la distancia total recorrida con los vehículos utilizados.\n",
    "- Minimizar el número de vehículos utilizados satisfacer a todos los clientes.\n",
    "- Minimizar la variación entre el tiempo de viaje y la carga del vehículo.\n",
    "- Minimizar las penalizaciones por servicio de baja calidad.\n",
    "\n",
    "### **Formulación Matemática del Problema**\n",
    "\n",
    "- cliente (C): Conjunto de **clientes**\n",
    "- nodos: Conjunto de **nodos**, donde 0 representa del DC |$\\;N= \\{0\\} \\cup C $\n",
    "- arcos: conjunto de todos los **arcos** entre cada nodo |$\\;A= \\{(i,j) \\in N^2 : i \\neq j\\}$\n",
    "- $c_{ij}$ = Costo o distancia entre el nodo i y el nodo j\n",
    "- $q_i$= carga de cada paquete en Cliente.\n",
    "- Q: Capacidad de los vehiculos.\n",
    "\n",
    "\n",
    "#### **variables de decisión**\n",
    "\n",
    "- $x_{i,j}$ igual a 1 cuando se decide viajar en el arco $(i,j) \\in A$; cero de lo contrario\n",
    "- $u_i$ capacidad  $i \\in C$\n",
    "\n",
    "\n",
    "$Min \\; Z= \\; \\displaystyle\\sum_{i\\;\\in\\;A}^{}\\sum_{j\\;\\in\\;A}^{} x_{ij}c_{ij}$\n",
    "\n",
    "$\\displaystyle\\sum_{i\\;\\in\\; Cliente}^{}x_{ij}= 1$     $\\; \\; \\forall \\;j \\; \\in \\; Nodos$\n",
    "\n",
    "$\\displaystyle\\sum_{j\\;\\in\\; Cliente}^{}x_{ij}= 1$     $\\; \\; \\forall \\;i \\; \\in \\; Nodos$\n",
    "\n",
    "$\\displaystyle\\sum_{i\\;\\in\\; Cliente}^{}x_{i0}= K$ \n",
    "\n",
    "$\\displaystyle\\sum_{j\\;\\in\\; Cliente}^{}x_{0j}= K$\n",
    "\n",
    "$\\displaystyle\\sum_{i\\; \\in\\;S}^{}\\sum_{j\\in\\;S}^{} \\geq r(s)$  $\\; \\forall \\;S \\subseteq \\; C   \\setminus \\{0\\},S \\neq \\phi$\n",
    "\n",
    "Esta última restricción sirve tanto como una restricción de capacidad y de eliminación de Sub Tour. Sin embargo, con está formulación el número de restricciones crece en forma exponencial con el número de nodos. Hay dos formas de resolver este problema: El primero es el utilizar el algoritmo de planos cortantes, la cual no veremos ya que es muy avanzada para este tutorial. La segunda es la formulación MTZ, que consiste en introducir una nueva variable $u=(u_1,....u_n)$ de acumulación.\n",
    "\n",
    "$Si \\; x_{ij}=1  \\Rightarrow u_{i}+q_{j}=u_{j}$ \n",
    "$ \\; \\; i,j \\in A: i\\neq0, j\\neq0 $\n",
    "\n",
    "$ q_i \\leq u_i \\leq Q \\; \\; i \\in N$\n"
   ]
  },
  {
   "cell_type": "markdown",
   "metadata": {},
   "source": [
    "## Creación de los Datos"
   ]
  },
  {
   "cell_type": "code",
   "execution_count": 1,
   "metadata": {},
   "outputs": [],
   "source": [
    "n=10 # Clientes\n",
    "clientes=[x for x in range(1,n+1)]\n",
    "\n",
    "nodos=[0]+clientes\n",
    "Q=15\n",
    "\n",
    "import numpy as np\n",
    "rnd=np.random\n",
    "rnd.seed(0)\n",
    "\n",
    "q={i:rnd.randint(1,10) for i in clientes}"
   ]
  },
  {
   "cell_type": "code",
   "execution_count": 2,
   "metadata": {},
   "outputs": [],
   "source": [
    "# Crear coordenadas \n",
    "rnd.seed(0)\n",
    "loc_x=rnd.rand(len(nodos))*200\n",
    "loc_y=rnd.rand(len(nodos))*100"
   ]
  },
  {
   "cell_type": "code",
   "execution_count": 3,
   "metadata": {},
   "outputs": [
    {
     "data": {
      "image/png": "[encoded data removed]",
      "text/plain": [
       "<matplotlib.figure.Figure at 0x10ca29e10>"
      ]
     },
     "metadata": {},
     "output_type": "display_data"
    }
   ],
   "source": [
    "import matplotlib.pyplot as plt\n",
    "\n",
    "plt.figure(figsize=(12,5))\n",
    "plt.scatter(loc_x,loc_y,color=\"green\")\n",
    "\n",
    "for i in clientes:\n",
    "    plt.annotate('$q_{%d}=%d$'%(i,q[i]),(loc_x[i]+1,loc_y[i]-0.5))\n",
    "    \n",
    "plt.plot(loc_x[0],loc_y[0],color='red',marker='s')\n",
    "plt.annotate('DC',(loc_x[0]-2,loc_y[0]+2))\n",
    "\n",
    "plt.xlabel(\"Eje X\")\n",
    "plt.ylabel(\"Eje Y\")\n",
    "plt.title(\"Gráfico de Nodos | VRP\")\n",
    "\n",
    "plt.show()"
   ]
  },
  {
   "cell_type": "markdown",
   "metadata": {},
   "source": [
    "### Creando las estructuras de datos"
   ]
  },
  {
   "cell_type": "code",
   "execution_count": 4,
   "metadata": {},
   "outputs": [],
   "source": [
    "\n",
    "arcos={(i,j) for i in nodos for j in nodos if i!=j}"
   ]
  },
  {
   "cell_type": "code",
   "execution_count": 5,
   "metadata": {},
   "outputs": [],
   "source": [
    "distancia={(i,j):np.hypot(loc_x[i]-loc_x[j],loc_y[i]-loc_y[j]) \n",
    "           for i in nodos for j in nodos if i!=j}"
   ]
  },
  {
   "cell_type": "markdown",
   "metadata": {},
   "source": [
    "## Creación y Optimización - CVRP"
   ]
  },
  {
   "cell_type": "code",
   "execution_count": 6,
   "metadata": {},
   "outputs": [],
   "source": [
    "from docplex.mp.model import Model\n",
    "mdl=Model('CVRP')"
   ]
  },
  {
   "cell_type": "markdown",
   "metadata": {},
   "source": [
    "#### Creando las variables de decisión"
   ]
  },
  {
   "cell_type": "code",
   "execution_count": 7,
   "metadata": {},
   "outputs": [],
   "source": [
    "x=mdl.binary_var_dict(arcos,name='x')\n",
    "u=mdl.continuous_var_dict(nodos,ub=Q,name='u')"
   ]
  },
  {
   "cell_type": "markdown",
   "metadata": {},
   "source": [
    "##### <font color=green> Función Objetivo </font>\n",
    "$Min \\; Z= \\; \\displaystyle\\sum_{i\\;\\in\\;A}^{}\\sum_{j\\;\\in\\;A}^{} x_{ij}c_{ij}$"
   ]
  },
  {
   "cell_type": "code",
   "execution_count": 8,
   "metadata": {},
   "outputs": [],
   "source": [
    "mdl.minimize(mdl.sum(distancia[i,j]*x[i,j] for i,j in arcos))"
   ]
  },
  {
   "cell_type": "markdown",
   "metadata": {},
   "source": [
    "##### <font color=green> Restricciones </font>\n",
    "$\\displaystyle\\sum_{i\\;\\in\\; Clientes}^{}x_{ij}= 1$     $\\; \\; \\forall \\;j \\; \\in \\; Nodos$\n",
    "\n",
    "$\\displaystyle\\sum_{j\\;\\in\\; Clientes}^{}x_{ij}= 1$     $\\; \\; \\forall \\;i \\; \\in \\; Nodos$\n",
    "\n",
    "$Si \\; x_{ij}=1  \\Rightarrow u_{i}+q_{j}=u_{j}$ \n",
    "$ \\; \\; i,j \\in A: i\\neq0, j\\neq0 $\n",
    "\n",
    "$ q_i \\leq u_i \\leq Q \\; \\; i \\in N$"
   ]
  },
  {
   "cell_type": "code",
   "execution_count": 9,
   "metadata": {},
   "outputs": [
    {
     "name": "stdout",
     "output_type": "stream",
     "text": [
      "\n"
     ]
    }
   ],
   "source": [
    "mdl.add_constraints(mdl.sum(x[i,j] for j in nodos if i!=j)==1 for i in clientes)\n",
    "mdl.add_constraints(mdl.sum(x[i,j] for i in nodos if i!=j)==1 for j in clientes)\n",
    "\n",
    "mdl.add_indicator_constraints(mdl.indicator_constraint(x[i,j],u[i]+q[j]==u[j])\n",
    "                                    for i,j in arcos if i!=0 and j!= 0)\n",
    "\n",
    "mdl.add_constraints(u[i]>=q[i] for i in clientes)\n",
    "print(\"\")"
   ]
  },
  {
   "cell_type": "code",
   "execution_count": 10,
   "metadata": {},
   "outputs": [
    {
     "name": "stdout",
     "output_type": "stream",
     "text": [
      "CPXPARAM_TimeLimit                               120\n",
      "CPXPARAM_Read_DataCheck                          1\n",
      "CPXPARAM_RandomSeed                              201703173\n",
      "Tried aggregator 2 times.\n",
      "MIP Presolve eliminated 10 rows and 3 columns.\n",
      "MIP Presolve modified 44 coefficients.\n",
      "Aggregator did 44 substitutions.\n",
      "Reduced MIP has 64 rows, 162 columns, and 328 nonzeros.\n",
      "Reduced MIP has 108 binaries, 0 generals, 0 SOSs, and 88 indicators.\n",
      "Presolve time = 0.03 sec. (0.35 ticks)\n",
      "Found incumbent of value 1074.773652 after 0.04 sec. (0.48 ticks)\n",
      "Probing time = 0.00 sec. (0.32 ticks)\n",
      "Tried aggregator 1 time.\n",
      "Reduced MIP has 64 rows, 162 columns, and 328 nonzeros.\n",
      "Reduced MIP has 108 binaries, 0 generals, 0 SOSs, and 88 indicators.\n",
      "Presolve time = 0.02 sec. (0.23 ticks)\n",
      "Probing time = 0.00 sec. (0.30 ticks)\n",
      "Clique table members: 64.\n",
      "MIP emphasis: balance optimality and feasibility.\n",
      "MIP search method: dynamic search.\n",
      "Parallel mode: deterministic, using up to 4 threads.\n",
      "Root relaxation solution time = 0.00 sec. (0.13 ticks)\n",
      "\n",
      "        Nodes                                         Cuts/\n",
      "   Node  Left     Objective  IInf  Best Integer    Best Bound    ItCnt     Gap\n",
      "\n",
      "*     0+    0                         1074.7737        0.0000           100.00%\n",
      "      0     0      270.3676    10     1074.7737      270.3676       17   74.84%\n",
      "      0     0      307.7459     7     1074.7737      Cuts: 26       28   71.37%\n",
      "      0     0      307.7459    11     1074.7737      Cuts: 33       39   71.37%\n",
      "      0     0      307.7459    20     1074.7737      Cuts: 29       42   71.37%\n",
      "*     0+    0                          713.8941      307.7459            56.89%\n",
      "*     0+    0                          675.1306      307.7459            54.42%\n",
      "*     0+    0                          662.0180      307.7459            53.51%\n",
      "      0     2      307.7459    10      662.0180      307.7459       42   53.51%\n",
      "Elapsed time = 0.39 sec. (5.65 ticks, tree = 0.01 MB, solutions = 4)\n",
      "*   137    73      integral     0      638.7039      307.7459      391   51.82%\n",
      "*   140+   72                          635.4363      307.7459            51.57%\n",
      "*   521+  135                          635.1087      327.3411            48.46%\n",
      "\n",
      "Cover cuts applied:  26\n",
      "Implied bound cuts applied:  167\n",
      "\n",
      "Root node processing (before b&c):\n",
      "  Real time             =    0.36 sec. (5.61 ticks)\n",
      "Parallel b&c, 4 threads:\n",
      "  Real time             =    0.88 sec. (132.33 ticks)\n",
      "  Sync time (average)   =    0.28 sec.\n",
      "  Wait time (average)   =    0.03 sec.\n",
      "                          ------------\n",
      "Total (root+branch&cut) =    1.24 sec. (137.94 ticks)\n"
     ]
    }
   ],
   "source": [
    "mdl.parameters.timelimit=120\n",
    "solucion=mdl.solve(log_output=True)"
   ]
  },
  {
   "cell_type": "code",
   "execution_count": 11,
   "metadata": {},
   "outputs": [
    {
     "data": {
      "text/plain": [
       "<JobSolveStatus.OPTIMAL_SOLUTION: 2>"
      ]
     },
     "execution_count": 11,
     "metadata": {},
     "output_type": "execute_result"
    }
   ],
   "source": [
    "mdl.get_solve_status()"
   ]
  },
  {
   "cell_type": "code",
   "execution_count": 12,
   "metadata": {},
   "outputs": [
    {
     "name": "stdout",
     "output_type": "stream",
     "text": [
      "solution for: CVRP\n",
      "objective: 635.109\n",
      "x_(6, 9) = 1\n",
      "x_(4, 0) = 1\n",
      "x_(0, 1) = 1\n",
      "x_(7, 8) = 1\n",
      "x_(9, 4) = 1\n",
      "x_(0, 5) = 1\n",
      "x_(0, 2) = 1\n",
      "x_(3, 0) = 1\n",
      "x_(8, 0) = 1\n",
      "x_(10, 0) = 1\n",
      "x_(5, 3) = 1\n",
      "x_(0, 6) = 1\n",
      "x_(1, 7) = 1\n",
      "x_(2, 10) = 1\n",
      "u_1 = 6.000\n",
      "u_2 = 7.000\n",
      "u_3 = 15.000\n",
      "u_4 = 13.000\n",
      "u_5 = 11.000\n",
      "u_6 = 4.000\n",
      "u_7 = 12.000\n",
      "u_8 = 15.000\n",
      "u_9 = 9.000\n",
      "u_10 = 15.000\n"
     ]
    }
   ],
   "source": [
    "solucion.display()"
   ]
  },
  {
   "cell_type": "code",
   "execution_count": 13,
   "metadata": {},
   "outputs": [
    {
     "data": {
      "text/plain": [
       "[(6, 9),\n",
       " (4, 0),\n",
       " (0, 1),\n",
       " (7, 8),\n",
       " (9, 4),\n",
       " (0, 5),\n",
       " (0, 2),\n",
       " (3, 0),\n",
       " (8, 0),\n",
       " (10, 0),\n",
       " (5, 3),\n",
       " (0, 6),\n",
       " (1, 7),\n",
       " (2, 10)]"
      ]
     },
     "execution_count": 13,
     "metadata": {},
     "output_type": "execute_result"
    }
   ],
   "source": [
    "arcos_activos=[k for k in arcos if x[k].solution_value>0.9]\n",
    "arcos_activos"
   ]
  },
  {
   "cell_type": "code",
   "execution_count": 14,
   "metadata": {},
   "outputs": [
    {
     "data": {
      "image/png": "[encoded data removed]",
      "text/plain": [
       "<matplotlib.figure.Figure at 0x11b50cf98>"
      ]
     },
     "metadata": {},
     "output_type": "display_data"
    }
   ],
   "source": [
    "plt.figure(figsize=(12,5))\n",
    "plt.scatter(loc_x,loc_y,color=\"green\")\n",
    "\n",
    "for i in clientes:\n",
    "    plt.annotate('$q_{%d}=%d$'%(i,q[i]),(loc_x[i]+1,loc_y[i]-0.5))\n",
    "    \n",
    "plt.plot(loc_x[0],loc_y[0],color='red',marker='s')\n",
    "plt.annotate('DC',(loc_x[0]-2,loc_y[0]+2))\n",
    "\n",
    "for i,j in arcos_activos:\n",
    "    plt.plot([loc_x[i],loc_x[j]],[loc_y[i],loc_y[j]],color=\"blue\",alpha=0.3)\n",
    "\n",
    "plt.xlabel(\"Eje X\")\n",
    "plt.ylabel(\"Eje Y\")\n",
    "plt.title(\"Gráfico de Nodos | VRP\")\n",
    "\n",
    "plt.show()"
   ]
  },
  {
   "cell_type": "code",
   "execution_count": null,
   "metadata": {},
   "outputs": [],
   "source": []
  }
 ],
 "metadata": {
  "kernelspec": {
   "display_name": "Python 3",
   "language": "python",
   "name": "python3"
  },
  "language_info": {
   "codemirror_mode": {
    "name": "ipython",
    "version": 3
   },
   "file_extension": ".py",
   "mimetype": "text/x-python",
   "name": "python",
   "nbconvert_exporter": "python",
   "pygments_lexer": "ipython3",
   "version": "3.6.3"
  }
 },
 "nbformat": 4,
 "nbformat_minor": 2
}
