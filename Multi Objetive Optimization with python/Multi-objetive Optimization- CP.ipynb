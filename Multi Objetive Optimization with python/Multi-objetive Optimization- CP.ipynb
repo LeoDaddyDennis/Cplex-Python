{
 "cells": [
  {
   "cell_type": "markdown",
   "metadata": {},
   "source": [
    "![title](UCN_ICI.PNG)\n",
    "\n",
    "#  <font color= #007FFF> Optimización Multi Objetivo -Compromise Programming</font>\n",
    "\n",
    "<div class=\"alert alert-info\"> </h4> Material preparado para la carrera de Ingeniería Civil Industrial | Universidad Católica del Norte | Escuela de Ingeniería - Campus Coquimbo | Curso Electivo: Optimización Multi Objetivo</h4> </div>\n",
    "\n",
    "En un problema de optimización se tratará de encontrar una solución que represente el valor óptimo para una función objetivo. En el caso tradicional se tendrá un único objetivo y el valor óptimo corresponderá a un mínimo o a un máximo.\n",
    "\n",
    "Pero en ciencias e ingeniería se dan, en bastantes ocasiones, problemas que requieren la optimización simultánea de más de un objetivo ([optimización multiobjetivo](https://en.wikipedia.org/wiki/Multi-objective_optimization), pero el problema está en que normalmente no existe un elemento de S que produzca un óptimo de forma simultánea para cada uno de los k objetivos que componen las funciones.Esto se deberá a la existencia de conflictos entre objetivos, que harán que la mejora de uno de ellos dé lugar a un empeoramiento de algún otro. Pensemos por ejemplo en el caso de un avión con dos objetivos que fueran su velocidad y el ahorro de combustible: un aumento de la velocidad traería consigo una disminución del ahorro. Habrá que llegar por tanto a una situación de compromiso en la que todos los objetivos sean satisfechos en un grado aceptable, desde el punto de vista de diseño.\n",
    "\n",
    "A diferencia de los problemas de optimización con un único objetivo, el concepto de óptimo es ahora relativo y será necesario decidir de alguna forma cuál es la mejor solución (o cuáles son las mejores soluciones) al problema.\n",
    "\n",
    "\n",
    "Para tratar el problema comentado del conflicto entre objetivos se han utilizado diversos métodos:\n",
    "\n",
    " - Métodos basados en el concepto de [eficiencia de Pareto](https://es.wikipedia.org/wiki/Eficiencia_de_Pareto)\n",
    " - Métodos basados en la combinación de objetivos. \n",
    "\n",
    "> El objetivo de este material es introducir a la optimización multi objetivo utilizando Python y Cplex | Python y Gurobi.\n",
    "Para mayor información puede visitar el siguiente link [Cplex IBM](https://ibmdecisionoptimization.github.io/tutorials/html/Linear_Programming.html)\n",
    "o [GUROBI](https://www.gurobi.com/es/resource/python-i-webinar/)\n",
    "\n",
    "\n",
    "##  <font color= #007FFF> Compromise Programming </font>\n",
    "\n",
    "En el método de restricción ε, una de las funciones objetivo se selecciona para ser optimizado, los otros se convierten en restricciones y el problema obtiene formar:\n",
    "\n",
    "\\begin{equation}\n",
    "Min\\;f_i(x)\n",
    "\\\\\n",
    "s.t \\; \\; f_j(x)\\leq \\epsilon_j\n",
    "\\end{equation}\n",
    "\n",
    "En lo que respecta a la optimización, la solución del problema puede ser demostrado que siempre es óptimo de Pareto débil. Por otro lado, x ∈ S puede ser demostrado ser Pareto óptimo si y solo si resuelve el problem anterior. Además, una solución única se puede demostrar que es Pareto óptimo para cualquier límite superior. En otra\n",
    "palabras, para garantizar la optimización de Pareto debemos resolver k diferentes problemas (y resolver muchos problemas para cada solución óptima de Pareto aumenta el costo de computación) u obtener una solución única (que no es necesariamente fácil de verificar). Sin embargo, un hecho positivo es que encontrar cualquier solución óptima de Pareto no necesita convexidad. En otras palabras, este método funciona tanto para problemas convexos como no convexos.\n",
    "\n",
    "\n",
    "### <font color=#007FFF> Modelo de Programación Lineal - Multi Objetivo | Ejemplo: </font>\n",
    "\\begin{equation}\n",
    "Max\\;f_1=2x+3y\n",
    "\\\\\n",
    "Min\\;f_2=x+2\n",
    "\\\\\n",
    "s.t\n",
    "\\\\\n",
    "x+y \\leq 15 \n",
    "\\\\\n",
    "y -2x \\leq 0 \n",
    "\\\\\n",
    "x \\geq 5 \n",
    "\\\\\n",
    "y \\geq 3\n",
    "\\\\\n",
    "x,y \\geq 0\n",
    "\\end{equation}"
   ]
  },
  {
   "cell_type": "markdown",
   "metadata": {},
   "source": [
    "<img src=\"Cplex_logo.png\" width=\"150\" height=\"150\" />\n",
    "\n",
    "<div class=\"alert alert-block alert-warning\">\n",
    "\n",
    "<b> **Cplex:**</b> \n",
    "Solucioando el problema con cada función objetivo por separado y gráficandolas. \n",
    "</div>\n"
   ]
  },
  {
   "cell_type": "code",
   "execution_count": 1,
   "metadata": {},
   "outputs": [],
   "source": [
    "import numpy as np\n",
    "import pandas as pd\n",
    "import matplotlib.pyplot as plt\n",
    "import seaborn as sns\n",
    "from matplotlib.path import Path\n",
    "from matplotlib.patches import PathPatch"
   ]
  },
  {
   "cell_type": "code",
   "execution_count": 2,
   "metadata": {},
   "outputs": [],
   "source": [
    "# Importanto Cplex\n",
    "from docplex.mp.model import Model\n",
    "\n",
    "# Inicializando el modelo\n",
    "mdl = Model('modelo-max')\n",
    "\n",
    "# Creando las variables de decisión - continuas\n",
    "\n",
    "x = mdl.continuous_var(name='x')\n",
    "y = mdl.continuous_var(name='y')"
   ]
  },
  {
   "cell_type": "code",
   "execution_count": 3,
   "metadata": {},
   "outputs": [
    {
     "name": "stdout",
     "output_type": "stream",
     "text": [
      "\\ This file has been generated by DOcplex\n",
      "\\ ENCODING=ISO-8859-1\n",
      "\\Problem name: modelo-max\n",
      "\n",
      "Maximize\n",
      " obj: 2 x + 3 y\n",
      "Subject To\n",
      " c1: x + y <= 15\n",
      " c2: - 2 x + y <= 0\n",
      " c3: x >= 5\n",
      " c4: y >= 3\n",
      "\n",
      "Bounds\n",
      "End\n",
      "\n"
     ]
    }
   ],
   "source": [
    "# Escribiendo las restricciones\n",
    "\n",
    "mdl.maximize(2*x+3*y)\n",
    "\n",
    "mdl.add_constraint(x+y <= 15)\n",
    "mdl.add_constraint(y-2*x <= 0)\n",
    "mdl.add_constraint(x >= 5)\n",
    "mdl.add_constraint(y >=3)\n",
    "\n",
    "print(mdl.export_to_string())"
   ]
  },
  {
   "cell_type": "code",
   "execution_count": 4,
   "metadata": {},
   "outputs": [
    {
     "name": "stdout",
     "output_type": "stream",
     "text": [
      "CPXPARAM_Read_DataCheck                          1\n",
      "Tried aggregator 1 time.\n",
      "LP Presolve eliminated 3 rows and 1 columns.\n",
      "Aggregator did 1 substitutions.\n",
      "All rows and columns eliminated.\n",
      "Presolve time = 0.01 sec. (0.00 ticks)\n",
      "solution for: modelo-max\n",
      "objective: 40.000\n",
      "x = 5.000\n",
      "y = 10.000\n"
     ]
    }
   ],
   "source": [
    "solucion = mdl.solve(log_output=True)\n",
    "solucion.display()"
   ]
  },
  {
   "cell_type": "code",
   "execution_count": 5,
   "metadata": {},
   "outputs": [],
   "source": [
    "mdl = Model('modelo-min')\n",
    "x = mdl.continuous_var(name='x')\n",
    "y = mdl.continuous_var(name='y')"
   ]
  },
  {
   "cell_type": "code",
   "execution_count": 6,
   "metadata": {},
   "outputs": [
    {
     "name": "stdout",
     "output_type": "stream",
     "text": [
      "\\ This file has been generated by DOcplex\n",
      "\\ ENCODING=ISO-8859-1\n",
      "\\Problem name: modelo-min\n",
      "\n",
      "Minimize\n",
      " obj: x + 2 y\n",
      "Subject To\n",
      " c1: x + y <= 15\n",
      " c2: - 2 x + y <= 0\n",
      " c3: x >= 5\n",
      " c4: y >= 3\n",
      "\n",
      "Bounds\n",
      "End\n",
      "\n"
     ]
    }
   ],
   "source": [
    "# Escribiendo las restricciones\n",
    "\n",
    "mdl.minimize(x+2*y)\n",
    "mdl.add_constraint(x+y <= 15)\n",
    "mdl.add_constraint(y-2*x <= 0)\n",
    "mdl.add_constraint(x >= 5)\n",
    "mdl.add_constraint(y >=3)\n",
    "\n",
    "print(mdl.export_to_string())"
   ]
  },
  {
   "cell_type": "code",
   "execution_count": 7,
   "metadata": {},
   "outputs": [
    {
     "name": "stdout",
     "output_type": "stream",
     "text": [
      "CPXPARAM_Read_DataCheck                          1\n",
      "Tried aggregator 1 time.\n",
      "LP Presolve eliminated 4 rows and 2 columns.\n",
      "All rows and columns eliminated.\n",
      "Presolve time = 0.01 sec. (0.00 ticks)\n",
      "solution for: modelo-min\n",
      "objective: 11.000\n",
      "x = 5.000\n",
      "y = 3.000\n"
     ]
    }
   ],
   "source": [
    "solucion = mdl.solve(log_output=True)\n",
    "solucion.display()"
   ]
  },
  {
   "cell_type": "code",
   "execution_count": 8,
   "metadata": {},
   "outputs": [
    {
     "data": {
      "image/png": "[encoded data removed]",
      "text/plain": [
       "<Figure size 432x72 with 1 Axes>"
      ]
     },
     "metadata": {
      "needs_background": "light"
     },
     "output_type": "display_data"
    },
    {
     "data": {
      "image/png": "[encoded data removed]",
      "text/plain": [
       "<Figure size 576x576 with 1 Axes>"
      ]
     },
     "metadata": {},
     "output_type": "display_data"
    }
   ],
   "source": [
    "colores=sns.palplot(sns.color_palette(\"hls\", ))\n",
    "sns.set()\n",
    "sns.set(style='white')\n",
    "sns.despine()\n",
    "sns.set_context('notebook')\n",
    "\n",
    "# Crear un objeto gráfico.\n",
    "fig, ax = plt.subplots(figsize=(8, 8))\n",
    "x = np.linspace(0, 20)\n",
    "y = np.linspace(0, 20)\n",
    "\n",
    "# agregando la restricción de horas de capintería\n",
    "plt.plot(x, 15 - x, lw=3, label='Capacidad Vehiculo')\n",
    "plt.fill_between(x, 0, 15 - x, alpha=0.1)\n",
    "\n",
    "# agregando la restricción de horas de acabado\n",
    "plt.plot(x,2*x, lw=3, label='Capacidad Materiales')\n",
    "plt.fill_between(x,2*x,0,alpha=0.1)\n",
    "\n",
    "# agregando la restricción de demanda\n",
    "plt.plot(5 * np.ones_like(x), x, lw=3, label='Demanda X')\n",
    "plt.fill_betweenx(x, 5, 20, alpha=0.1)\n",
    "\n",
    "# agregando la restricción de demanda\n",
    "plt.plot(y, 3 * np.ones_like(y), lw=3, label='Demanda Y')\n",
    "plt.fill_betweenx(y+3,  0, 20, alpha=0.1)\n",
    "\n",
    "\n",
    "# Sobrear la región Factible.\n",
    "path = Path([\n",
    "    (5, 3),\n",
    "    (5, 10),\n",
    "    (12, 3)])\n",
    "patch = PathPatch(path, label='Región Factible', alpha=0.8)\n",
    "ax.add_patch(patch)\n",
    "\n",
    "\n",
    "# agregando las funciones objetivo\n",
    "plt.plot(x,(40/3) -(2/3) * x,color='magenta',linestyle='dashed',lw=4, label='$Z=40 \\; Max$')\n",
    "plt.plot(x, (11/2) -(1/2) * x,color='magenta',linestyle='dotted',lw=4, label='$Z=11 \\; Min$')\n",
    "\n",
    "plt.xlabel('$X$', fontsize=16)\n",
    "plt.ylabel('$Y$', fontsize=16)\n",
    "plt.xlim(0, 20)\n",
    "plt.ylim(0, 20)\n",
    "plt.legend(fontsize=12)\n",
    "\n",
    "plt.show()"
   ]
  },
  {
   "cell_type": "markdown",
   "metadata": {},
   "source": [
    "#  <font color= #007FFF> Paso nº 1: Metodo de $\\varepsilon_i$-constraint utilizando **Cplex** </font>\n",
    "\n",
    "<div class=\"alert alert-block alert-warning\">\n",
    "\n",
    "<b> **Cplex:**</b>  \n",
    "Determinar la frontera de Pareto de soluciones para el problema utilizando el método de $\\varepsilon_i$-constraint \n",
    "</div>"
   ]
  },
  {
   "cell_type": "markdown",
   "metadata": {},
   "source": [
    "#### Model 1\n",
    "$ Max \\; f_1=2x+3y$\n",
    "\n",
    "s.t\n",
    "\n",
    "$x+y \\leq 15$\n",
    "\n",
    "$ y -2x \\leq 0$\n",
    "\n",
    "$x \\geq 5$\n",
    "\n",
    "$y \\geq 3$\n",
    "\n",
    "$x + 2y \\leq \\varepsilon_1$"
   ]
  },
  {
   "cell_type": "code",
   "execution_count": 9,
   "metadata": {},
   "outputs": [
    {
     "name": "stdout",
     "output_type": "stream",
     "text": [
      "*****************\n",
      "Solución modelo 1\n",
      "solution for: MDCM_1\n",
      "objective: 40.000\n",
      "x = 5.000\n",
      "y = 10.000\n",
      "e1 = 25.000\n"
     ]
    }
   ],
   "source": [
    "# Upper Bound\n",
    "\n",
    "mdl = Model('MDCM_1')\n",
    "x = mdl.continuous_var(name='x')\n",
    "y = mdl.continuous_var(name='y')\n",
    "e1 = mdl.continuous_var(name='e1')\n",
    "\n",
    "# MDCM_1 - Upper Bound\n",
    "mdl.maximize(2*x +3*y)\n",
    "mdl.add_constraint(x+y <= 15)\n",
    "mdl.add_constraint(y-2*x <= 0)\n",
    "mdl.add_constraint(x >= 5)\n",
    "mdl.add_constraint(y >= 3)\n",
    "mdl.add_constraint(x+2*y <=e1)\n",
    "\n",
    "solucion = mdl.solve(log_output=False)\n",
    "print(\"*****************\")\n",
    "print(\"Solución modelo 1\")\n",
    "solucion.display()"
   ]
  },
  {
   "cell_type": "code",
   "execution_count": 10,
   "metadata": {},
   "outputs": [
    {
     "data": {
      "text/plain": [
       "25"
      ]
     },
     "execution_count": 10,
     "metadata": {},
     "output_type": "execute_result"
    }
   ],
   "source": [
    "max_f2=int(e1.solution_value)\n",
    "max_f2"
   ]
  },
  {
   "cell_type": "code",
   "execution_count": 11,
   "metadata": {},
   "outputs": [
    {
     "data": {
      "text/plain": [
       "40"
      ]
     },
     "execution_count": 11,
     "metadata": {},
     "output_type": "execute_result"
    }
   ],
   "source": [
    "max_f1=int(solucion.objective_value)\n",
    "max_f1"
   ]
  },
  {
   "cell_type": "code",
   "execution_count": 12,
   "metadata": {},
   "outputs": [
    {
     "name": "stdout",
     "output_type": "stream",
     "text": [
      "*****************\n",
      "Solución modelo 2\n",
      "solution for: MDCM_2\n",
      "objective: 11.000\n",
      "x = 5.000\n",
      "y = 3.000\n",
      "e2 = 19.000\n"
     ]
    }
   ],
   "source": [
    "modelo = Model('MDCM_2')\n",
    "x = modelo.continuous_var(name='x')\n",
    "y = modelo.continuous_var(name='y')\n",
    "e2 = modelo.continuous_var(name='e2')\n",
    "\n",
    "modelo.minimize(x +2*y)\n",
    "modelo.add_constraint(x+y <= 15)\n",
    "modelo.add_constraint(y-2*x <= 0)\n",
    "modelo.add_constraint(x >= 5)\n",
    "modelo.add_constraint(y >= 3)\n",
    "modelo.add_constraint(2*x +3*y <=e2)\n",
    "\n",
    "solucion_2 = modelo.solve(log_output=False)\n",
    "print(\"*****************\")\n",
    "print(\"Solución modelo 2\")\n",
    "solucion_2.display()"
   ]
  },
  {
   "cell_type": "code",
   "execution_count": 13,
   "metadata": {},
   "outputs": [
    {
     "data": {
      "text/plain": [
       "11"
      ]
     },
     "execution_count": 13,
     "metadata": {},
     "output_type": "execute_result"
    }
   ],
   "source": [
    "min_f2=int(solucion_2.objective_value)\n",
    "min_f2"
   ]
  },
  {
   "cell_type": "code",
   "execution_count": 14,
   "metadata": {},
   "outputs": [
    {
     "data": {
      "text/plain": [
       "19"
      ]
     },
     "execution_count": 14,
     "metadata": {},
     "output_type": "execute_result"
    }
   ],
   "source": [
    "min_f1=int(e2.solution_value)\n",
    "min_f1"
   ]
  },
  {
   "cell_type": "markdown",
   "metadata": {},
   "source": [
    "<div class=\"alert alert-block alert-warning\">\n",
    "\n",
    "<b> **Cplex:**</b> \n",
    "En las dos primera etapas obtenemos los limites mínimo **(lower bound)** y máximo **(upper bound)** de la variable $\\varepsilon_i$.Luego resolvemos el modelo para todos o la mayoría de los valores de $\\varepsilon_i$ </div>"
   ]
  },
  {
   "cell_type": "code",
   "execution_count": 15,
   "metadata": {},
   "outputs": [],
   "source": [
    "# e comienza en 25 y temrina en 11.\n",
    "list_x=[]\n",
    "list_y=[]\n",
    "f1=[]\n",
    "f2=[]\n",
    "\n",
    "\n",
    "for e in range(max_f2,min_f2,-1):\n",
    "    model = Model('MDCM')\n",
    "    x = model.continuous_var(name='x')\n",
    "    y = model.continuous_var(name='y')\n",
    "    \n",
    "    model.maximize(2*x +3*y)\n",
    "    model.add_constraint(x+y <= 15)\n",
    "    model.add_constraint(y-2*x <= 0)\n",
    "    model.add_constraint(x >= 5)\n",
    "    model.add_constraint(y >= 3)\n",
    "    model.add_constraint(x+2*y <=e)\n",
    "    \n",
    "    solution=model.solve(log_output=False)\n",
    "    \n",
    "    list_x.append(solution.get_value(x))\n",
    "    list_y.append(solution.get_value(y))\n",
    "    \n",
    "    f1.append(solution.get_objective_value())\n",
    "    f2.append(e)"
   ]
  },
  {
   "cell_type": "code",
   "execution_count": 16,
   "metadata": {},
   "outputs": [
    {
     "name": "stdout",
     "output_type": "stream",
     "text": [
      "[40.0, 39.0, 38.0, 37.0, 36.0, 35.0, 34.0, 33.0, 31.0, 29.0, 27.0, 25.0, 23.0, 21.0]\n"
     ]
    }
   ],
   "source": [
    "print(f1)"
   ]
  },
  {
   "cell_type": "code",
   "execution_count": 17,
   "metadata": {},
   "outputs": [
    {
     "name": "stdout",
     "output_type": "stream",
     "text": [
      "[25, 24, 23, 22, 21, 20, 19, 18, 17, 16, 15, 14, 13, 12]\n"
     ]
    }
   ],
   "source": [
    "print(f2)"
   ]
  },
  {
   "cell_type": "code",
   "execution_count": 18,
   "metadata": {},
   "outputs": [
    {
     "data": {
      "image/png": "[encoded data removed]",
      "text/plain": [
       "<Figure size 576x288 with 1 Axes>"
      ]
     },
     "metadata": {},
     "output_type": "display_data"
    }
   ],
   "source": [
    "plt.figure(figsize=(8,4))\n",
    "\n",
    "sns.set(style=\"darkgrid\")\n",
    "plt.plot(f1,f2,'o-',color='g')\n",
    "\n",
    "plt.xlabel('$f_1$', fontsize=16)\n",
    "plt.ylabel('$f_2$', fontsize=16)\n",
    "plt.title(\"Pareto Frontier | Multi-objetive Optimization\",fontsize=18,color='blue')\n",
    "\n",
    "plt.text(22, 20, \"Soliciones Dominadas\", fontsize=14,color='blue')\n",
    "plt.text(32, 13, \"Soluciones Infactibles\", fontsize=14,color='blue')\n",
    "\n",
    "plt.show()"
   ]
  },
  {
   "cell_type": "code",
   "execution_count": 19,
   "metadata": {},
   "outputs": [
    {
     "data": {
      "text/html": [
       "<div>\n",
       "<style scoped>\n",
       "    .dataframe tbody tr th:only-of-type {\n",
       "        vertical-align: middle;\n",
       "    }\n",
       "\n",
       "    .dataframe tbody tr th {\n",
       "        vertical-align: top;\n",
       "    }\n",
       "\n",
       "    .dataframe thead th {\n",
       "        text-align: right;\n",
       "    }\n",
       "</style>\n",
       "<table border=\"1\" class=\"dataframe\">\n",
       "  <thead>\n",
       "    <tr style=\"text-align: right;\">\n",
       "      <th></th>\n",
       "      <th>$f_1$</th>\n",
       "      <th>$f_2$</th>\n",
       "      <th>x</th>\n",
       "      <th>y</th>\n",
       "    </tr>\n",
       "  </thead>\n",
       "  <tbody>\n",
       "    <tr>\n",
       "      <td>0</td>\n",
       "      <td>40</td>\n",
       "      <td>25</td>\n",
       "      <td>5.0</td>\n",
       "      <td>10.0</td>\n",
       "    </tr>\n",
       "    <tr>\n",
       "      <td>1</td>\n",
       "      <td>39</td>\n",
       "      <td>24</td>\n",
       "      <td>6.0</td>\n",
       "      <td>9.0</td>\n",
       "    </tr>\n",
       "    <tr>\n",
       "      <td>2</td>\n",
       "      <td>38</td>\n",
       "      <td>23</td>\n",
       "      <td>7.0</td>\n",
       "      <td>8.0</td>\n",
       "    </tr>\n",
       "    <tr>\n",
       "      <td>3</td>\n",
       "      <td>37</td>\n",
       "      <td>22</td>\n",
       "      <td>8.0</td>\n",
       "      <td>7.0</td>\n",
       "    </tr>\n",
       "    <tr>\n",
       "      <td>4</td>\n",
       "      <td>36</td>\n",
       "      <td>21</td>\n",
       "      <td>9.0</td>\n",
       "      <td>6.0</td>\n",
       "    </tr>\n",
       "    <tr>\n",
       "      <td>5</td>\n",
       "      <td>35</td>\n",
       "      <td>20</td>\n",
       "      <td>10.0</td>\n",
       "      <td>5.0</td>\n",
       "    </tr>\n",
       "    <tr>\n",
       "      <td>6</td>\n",
       "      <td>34</td>\n",
       "      <td>19</td>\n",
       "      <td>11.0</td>\n",
       "      <td>4.0</td>\n",
       "    </tr>\n",
       "    <tr>\n",
       "      <td>7</td>\n",
       "      <td>33</td>\n",
       "      <td>18</td>\n",
       "      <td>12.0</td>\n",
       "      <td>3.0</td>\n",
       "    </tr>\n",
       "    <tr>\n",
       "      <td>8</td>\n",
       "      <td>31</td>\n",
       "      <td>17</td>\n",
       "      <td>11.0</td>\n",
       "      <td>3.0</td>\n",
       "    </tr>\n",
       "    <tr>\n",
       "      <td>9</td>\n",
       "      <td>29</td>\n",
       "      <td>16</td>\n",
       "      <td>10.0</td>\n",
       "      <td>3.0</td>\n",
       "    </tr>\n",
       "    <tr>\n",
       "      <td>10</td>\n",
       "      <td>27</td>\n",
       "      <td>15</td>\n",
       "      <td>9.0</td>\n",
       "      <td>3.0</td>\n",
       "    </tr>\n",
       "    <tr>\n",
       "      <td>11</td>\n",
       "      <td>25</td>\n",
       "      <td>14</td>\n",
       "      <td>8.0</td>\n",
       "      <td>3.0</td>\n",
       "    </tr>\n",
       "    <tr>\n",
       "      <td>12</td>\n",
       "      <td>23</td>\n",
       "      <td>13</td>\n",
       "      <td>7.0</td>\n",
       "      <td>3.0</td>\n",
       "    </tr>\n",
       "    <tr>\n",
       "      <td>13</td>\n",
       "      <td>21</td>\n",
       "      <td>12</td>\n",
       "      <td>6.0</td>\n",
       "      <td>3.0</td>\n",
       "    </tr>\n",
       "  </tbody>\n",
       "</table>\n",
       "</div>"
      ],
      "text/plain": [
       "    $f_1$  $f_2$     x     y\n",
       "0      40     25   5.0  10.0\n",
       "1      39     24   6.0   9.0\n",
       "2      38     23   7.0   8.0\n",
       "3      37     22   8.0   7.0\n",
       "4      36     21   9.0   6.0\n",
       "5      35     20  10.0   5.0\n",
       "6      34     19  11.0   4.0\n",
       "7      33     18  12.0   3.0\n",
       "8      31     17  11.0   3.0\n",
       "9      29     16  10.0   3.0\n",
       "10     27     15   9.0   3.0\n",
       "11     25     14   8.0   3.0\n",
       "12     23     13   7.0   3.0\n",
       "13     21     12   6.0   3.0"
      ]
     },
     "execution_count": 19,
     "metadata": {},
     "output_type": "execute_result"
    }
   ],
   "source": [
    "df=pd.DataFrame(list(zip(f1, f2, list_x,list_y)),columns=['$f_1$','$f_2$', 'x','y'])\n",
    "df['$f_1$'] = df['$f_1$'].astype(int)\n",
    "df"
   ]
  },
  {
   "cell_type": "markdown",
   "metadata": {},
   "source": [
    "#  <font color= #007FFF> Paso nº 2: Determinar el punto Utópico </font>\n",
    "\n",
    "<div class=\"alert alert-success\">\n",
    "\n",
    "<b> **Cplex:**</b>  \n",
    "Se determina el punto Utópico es decir el punto en el cual ambas funciones tendrían su valor óptimo. \n",
    "</div>"
   ]
  },
  {
   "cell_type": "code",
   "execution_count": 20,
   "metadata": {},
   "outputs": [
    {
     "data": {
      "image/png": "[encoded data removed]",
      "text/plain": [
       "<Figure size 576x288 with 1 Axes>"
      ]
     },
     "metadata": {},
     "output_type": "display_data"
    }
   ],
   "source": [
    "plt.figure(figsize=(8,4))\n",
    "\n",
    "sns.set(style=\"darkgrid\")\n",
    "plt.plot(f1,f2,'o-',color='g')\n",
    "\n",
    "plt.scatter(max_f1,min_f2,marker=\"D\",color='red')\n",
    "\n",
    "plt.xlabel('$f_1$', fontsize=16)\n",
    "plt.ylabel('$f_2$', fontsize=16)\n",
    "plt.title(\"Pareto Frontier | Multi-objetive Optimization\",fontsize=18,color='blue')\n",
    "\n",
    "\n",
    "plt.text(22, 20, \"Soliciones Dominadas\", fontsize=14,color='blue')\n",
    "plt.text(22, 11, \"Soluciones Infactibles\", fontsize=14,color='blue')\n",
    "\n",
    "plt.show()"
   ]
  },
  {
   "cell_type": "markdown",
   "metadata": {},
   "source": [
    "#  <font color= #007FFF> Paso nº 3: Algoritmo de Compromise Programming. </font>\n",
    "\n",
    "<div class=\"alert alert-success\">\n",
    "\n",
    "<b> **Cplex:**</b>  \n",
    "Calcular la distancia entre el punto Utópico y las diferentes soluciones de que se encuentran en la frontera de pareto.\n",
    "</div>"
   ]
  },
  {
   "cell_type": "code",
   "execution_count": 21,
   "metadata": {},
   "outputs": [],
   "source": [
    "# variables y funciones:\n",
    "w1=0.5\n",
    "w2=0.5\n",
    "\n",
    "def f1(x,y):\n",
    "    return 2*x+3*y\n",
    "\n",
    "def f2(x,y):\n",
    "    return x+2*y"
   ]
  },
  {
   "cell_type": "markdown",
   "metadata": {},
   "source": [
    "<div class=\"alert alert-danger\">\n",
    "\n",
    "<b> **Compromise Programing | P=1:**</b>  \n",
    "Resolver el modelo utilizando el modelo de distancia con P=1\n",
    "</div>\n",
    "\n",
    "### <font color= #007FFF> Modelo de Programación Líneal | p=1. </font>\n",
    "\n",
    "\\begin{equation}\n",
    "Min\\;L_1=w_1 \\frac{40-f_1(x)}{40-19}+w_2 \\frac{f_2(x)-11}{25-11}\n",
    "\\\\\n",
    "s.t\n",
    "\\\\\n",
    "x+y \\leq 15 \n",
    "\\\\\n",
    "y -2x \\leq 0 \n",
    "\\\\\n",
    "x \\geq 5 \n",
    "\\\\\n",
    "y \\geq 3\n",
    "\\\\\n",
    "x,y \\geq 0\n",
    "\\end{equation}"
   ]
  },
  {
   "cell_type": "code",
   "execution_count": 22,
   "metadata": {},
   "outputs": [
    {
     "name": "stdout",
     "output_type": "stream",
     "text": [
      "*****************\n",
      "Solución modelo 2\n",
      "solution for: MDCM_CP-P1\n",
      "objective: 0.417\n",
      "x = 12.000\n",
      "y = 3.000\n"
     ]
    }
   ],
   "source": [
    "modelo = Model('MDCM_CP-P1')\n",
    "x = modelo.continuous_var(name='x')\n",
    "y = modelo.continuous_var(name='y')\n",
    "\n",
    "modelo.minimize( w1*((40-f1(x,y))/(40-19))+w2*((f2(x,y)-11)/(25-11)))\n",
    "modelo.add_constraint(x+y <= 15)\n",
    "modelo.add_constraint(y-2*x <= 0)\n",
    "modelo.add_constraint(x >= 5)\n",
    "modelo.add_constraint(y >= 3)\n",
    "\n",
    "solucion_CP_P1 = modelo.solve(log_output=False)\n",
    "print(\"*****************\")\n",
    "print(\"Solución modelo 2\")\n",
    "solucion_CP_P1.display()"
   ]
  },
  {
   "cell_type": "code",
   "execution_count": 23,
   "metadata": {},
   "outputs": [
    {
     "name": "stdout",
     "output_type": "stream",
     "text": [
      " El valor de la función objetivo $f_1$ es:  33.0\n",
      " El valor de la función objetivo $f_2$ es:  18.0\n"
     ]
    }
   ],
   "source": [
    "X_1=x.solution_value\n",
    "Y_1=y.solution_value\n",
    "\n",
    "f1_p1=f1(X_1,Y_1)\n",
    "f2_p2=f2(X_1,Y_1)\n",
    "print(\" El valor de la función objetivo $f_1$ es: \",f1_p1)\n",
    "print(\" El valor de la función objetivo $f_2$ es: \",f2_p2)"
   ]
  },
  {
   "cell_type": "markdown",
   "metadata": {},
   "source": [
    "<div class=\"alert alert-danger\">\n",
    "\n",
    "<b> **Compromise Programing | P= $\\infty$:**</b>  \n",
    "Resolver el modelo utilizando el modelo de distancia con P=$\\infty$\n",
    "</div>\n",
    "\n",
    "### <font color= #007FFF> Modelo de Programación Líneal | p=$\\infty$. </font>\n",
    "\n",
    "\\begin{equation}\n",
    "Min\\;L_\\infty =d\n",
    "\\\\\n",
    "s.t\n",
    "\\\\\n",
    "x+y \\leq 15 \n",
    "\\\\\n",
    "y -2x \\leq 0 \n",
    "\\\\\n",
    "x \\geq 5 \n",
    "\\\\\n",
    "y \\geq 3\n",
    "\\\\\n",
    "w_1 \\frac{40-f_1(x)}{40-19} \\leq d\n",
    "\\\\\n",
    "w_2 \\frac{f_2(x)-11}{25-11} \\leq d\n",
    "\\\\\n",
    "x,y \\geq 0\n",
    "\\end{equation}"
   ]
  },
  {
   "cell_type": "code",
   "execution_count": 24,
   "metadata": {},
   "outputs": [
    {
     "name": "stdout",
     "output_type": "stream",
     "text": [
      "*****************\n",
      "Solución modelo P= $\\infty$\n",
      "solution for: MDCM_CP-Pinf\n",
      "d: 0.214\n",
      "x = 11.000\n",
      "y = 3.000\n",
      "d = 0.214\n"
     ]
    }
   ],
   "source": [
    "modelo = Model('MDCM_CP-Pinf')\n",
    "x = modelo.continuous_var(name='x')\n",
    "y = modelo.continuous_var(name='y')\n",
    "d = modelo.continuous_var(name='d')\n",
    "\n",
    "modelo.minimize(d)\n",
    "modelo.add_constraint(x+y <= 15)\n",
    "modelo.add_constraint(y-2*x <= 0)\n",
    "modelo.add_constraint(x >= 5)\n",
    "modelo.add_constraint(y >= 3)\n",
    "modelo.add_constraint(w1*((40-f1(x,y))/(40-19)) <= d)\n",
    "modelo.add_constraint(w2*((f2(x,y)-11)/(25-11)) <= d)\n",
    "solucion_CP_Pinf = modelo.solve(log_output=False)\n",
    "print(\"*****************\")\n",
    "a='\\infty'\n",
    "print(\"Solución modelo P=\",'$%s$'%a)\n",
    "solucion_CP_Pinf.display()"
   ]
  },
  {
   "cell_type": "code",
   "execution_count": 25,
   "metadata": {},
   "outputs": [
    {
     "name": "stdout",
     "output_type": "stream",
     "text": [
      " El valor de la función objetivo $f_1$ es:  31.0\n",
      " El valor de la función objetivo $f_2$ es:  17.0\n"
     ]
    }
   ],
   "source": [
    "X_inf=x.solution_value\n",
    "Y_inf=y.solution_value\n",
    "\n",
    "f1_inf=f1(X_inf,Y_inf)\n",
    "f2_inf=f2(X_inf,Y_inf)\n",
    "print(\" El valor de la función objetivo $f_1$ es: \",f1_inf)\n",
    "print(\" El valor de la función objetivo $f_2$ es: \",f2_inf)"
   ]
  },
  {
   "cell_type": "markdown",
   "metadata": {},
   "source": [
    "### <font color= #007FFF>Gráficando soluciones. </font>\n",
    "\n",
    "<div class=\"alert alert-warning\">\n",
    "\n",
    "<b> **Compromise Programing** </b>  \n",
    "gráficando las dos soluciones – upper bound and lower bound – en la Frontera de Pareto.\n",
    "</div>\n"
   ]
  },
  {
   "cell_type": "code",
   "execution_count": 26,
   "metadata": {},
   "outputs": [
    {
     "data": {
      "image/png": "[encoded data removed]",
      "text/plain": [
       "<Figure size 864x432 with 1 Axes>"
      ]
     },
     "metadata": {},
     "output_type": "display_data"
    }
   ],
   "source": [
    "plt.figure(figsize=(12,6))\n",
    "f_1=df['$f_1$']\n",
    "f_2=df['$f_2$']\n",
    "\n",
    "sns.set(style=\"darkgrid\")\n",
    "plt.plot(f_1,f_2,'o-',color='g')\n",
    "\n",
    "plt.scatter(max_f1,min_f2,marker=\"D\",color='red')\n",
    "\n",
    "plt.xlabel('$f_1$', fontsize=16)\n",
    "plt.ylabel('$f_2$', fontsize=16)\n",
    "plt.title(\"Pareto Frontier | Multi-objetive Optimization\",fontsize=18,color='blue')\n",
    "plt.plot([max_f1,f1_inf],[min_f2,f2_inf],color=\"#ffb2b2\")\n",
    "plt.plot([max_f1,f1_p1],[min_f2,f2_p2],color=\"#ffb2b2\")\n",
    "\n",
    "plt.text(22, 20, \"Soliciones Dominadas\", fontsize=14,color='blue')\n",
    "plt.text(22, 11, \"Soluciones Infactibles\", fontsize=14,color='blue')\n",
    "plt.text(38.8, 10.3, \"Punto Utópico\", fontsize=14,color='#7f0000')\n",
    "\n",
    "plt.show()"
   ]
  },
  {
   "cell_type": "markdown",
   "metadata": {},
   "source": [
    "<pre>\n",
    "\n",
    "\n",
    "\n",
    "\n",
    "\n",
    "</pre>      "
   ]
  },
  {
   "cell_type": "markdown",
   "metadata": {},
   "source": [
    "<img src=\"logo_gurobi.png\" width=\"400\" height=\"400\" />\n",
    "\n",
    "#  <font color= #007FFF> Paso nº 1: Metodo de $\\varepsilon_i$-constraint utilizando **Gurobi** </font>\n",
    "\n",
    "<div class=\"alert alert-block alert-warning\">\n",
    "\n",
    "<b> **Cplex:**</b>  \n",
    "Determinar la frontera de Pareto de soluciones para el problema utilizando el método de $\\varepsilon_i$-constraint \n",
    "</div>"
   ]
  },
  {
   "cell_type": "code",
   "execution_count": 27,
   "metadata": {},
   "outputs": [],
   "source": [
    "from gurobipy import *"
   ]
  },
  {
   "cell_type": "code",
   "execution_count": 28,
   "metadata": {},
   "outputs": [
    {
     "name": "stdout",
     "output_type": "stream",
     "text": [
      "Academic license - for non-commercial use only\n",
      "Optimize a model with 5 rows, 3 columns and 9 nonzeros\n",
      "Coefficient statistics:\n",
      "  Matrix range     [1e+00, 2e+00]\n",
      "  Objective range  [2e+00, 3e+00]\n",
      "  Bounds range     [0e+00, 0e+00]\n",
      "  RHS range        [3e+00, 2e+01]\n",
      "Presolve removed 5 rows and 3 columns\n",
      "Presolve time: 0.02s\n",
      "Presolve: All rows and columns removed\n",
      "Iteration    Objective       Primal Inf.    Dual Inf.      Time\n",
      "       0    4.0000000e+01   0.000000e+00   0.000000e+00      0s\n",
      "\n",
      "Solved in 0 iterations and 0.04 seconds\n",
      "Optimal objective  4.000000000e+01\n",
      "Función Objetivo  40.0\n"
     ]
    }
   ],
   "source": [
    "# Primero resolver el problema de maximización:\n",
    "model_1 = Model('ejemplo_1 - Gurobi')\n",
    "\n",
    "x = model_1.addVar(vtype=GRB.CONTINUOUS, name='x')\n",
    "y = model_1.addVar(vtype=GRB.CONTINUOUS, name='y')\n",
    "e_1 = model_1.addVar(vtype=GRB.CONTINUOUS, name='e_1')\n",
    "\n",
    "model_1.setObjective(2*x+3*y, GRB.MAXIMIZE)\n",
    "model_1.addConstr(x+y<=15,\"c1\")\n",
    "model_1.addConstr(-2*x+y<=0,\"c2\")\n",
    "model_1.addConstr(x>=5,\"c3\")\n",
    "model_1.addConstr(y>=3,\"c4\")\n",
    "model_1.addConstr(x+2*y<=e_1,\"ce\")\n",
    "\n",
    "model_1.optimize()\n",
    "print(\"Función Objetivo \",model_1.ObjVal)"
   ]
  },
  {
   "cell_type": "code",
   "execution_count": 29,
   "metadata": {},
   "outputs": [
    {
     "data": {
      "text/plain": [
       "[5.0, 10.0, 25.0]"
      ]
     },
     "execution_count": 29,
     "metadata": {},
     "output_type": "execute_result"
    }
   ],
   "source": [
    "sol_var_1 = [x.x,y.x,e_1.x]\n",
    "sol_var_1"
   ]
  },
  {
   "cell_type": "code",
   "execution_count": 30,
   "metadata": {},
   "outputs": [
    {
     "data": {
      "text/plain": [
       "40"
      ]
     },
     "execution_count": 30,
     "metadata": {},
     "output_type": "execute_result"
    }
   ],
   "source": [
    "f1_max=int(model_1.ObjVal)\n",
    "f1_max"
   ]
  },
  {
   "cell_type": "code",
   "execution_count": 31,
   "metadata": {},
   "outputs": [
    {
     "data": {
      "text/plain": [
       "25"
      ]
     },
     "execution_count": 31,
     "metadata": {},
     "output_type": "execute_result"
    }
   ],
   "source": [
    "f2_max=int(e_1.x)\n",
    "f2_max"
   ]
  },
  {
   "cell_type": "code",
   "execution_count": 32,
   "metadata": {},
   "outputs": [
    {
     "name": "stdout",
     "output_type": "stream",
     "text": [
      "Optimize a model with 5 rows, 3 columns and 9 nonzeros\n",
      "Coefficient statistics:\n",
      "  Matrix range     [1e+00, 3e+00]\n",
      "  Objective range  [1e+00, 2e+00]\n",
      "  Bounds range     [0e+00, 0e+00]\n",
      "  RHS range        [3e+00, 2e+01]\n",
      "Presolve removed 5 rows and 3 columns\n",
      "Presolve time: 0.01s\n",
      "Presolve: All rows and columns removed\n",
      "Iteration    Objective       Primal Inf.    Dual Inf.      Time\n",
      "       0    1.1000000e+01   0.000000e+00   0.000000e+00      0s\n",
      "\n",
      "Solved in 0 iterations and 0.02 seconds\n",
      "Optimal objective  1.100000000e+01\n",
      "Función Objetivo  11.0\n"
     ]
    }
   ],
   "source": [
    "# Primero resolver el problema de maximización:\n",
    "model_2 = Model('ejemplo_2 - Gurobi')\n",
    "\n",
    "x = model_2.addVar(vtype=GRB.CONTINUOUS, name='x')\n",
    "y = model_2.addVar(vtype=GRB.CONTINUOUS, name='y')\n",
    "e_2 = model_2.addVar(vtype=GRB.CONTINUOUS, name='e_2')\n",
    "\n",
    "model_2.setObjective(x+2*y, GRB.MINIMIZE)\n",
    "model_2.addConstr(x+y<=15,\"c1\")\n",
    "model_2.addConstr(-2*x+y<=0,\"c2\")\n",
    "model_2.addConstr(x>=5,\"c3\")\n",
    "model_2.addConstr(y>=3,\"c4\")\n",
    "model_2.addConstr(2*x+3*y<=e_2,\"ce\")\n",
    "\n",
    "model_2.optimize()\n",
    "print(\"Función Objetivo \",model_2.ObjVal)"
   ]
  },
  {
   "cell_type": "code",
   "execution_count": 33,
   "metadata": {},
   "outputs": [
    {
     "data": {
      "text/plain": [
       "[5.0, 3.0, 19.0]"
      ]
     },
     "execution_count": 33,
     "metadata": {},
     "output_type": "execute_result"
    }
   ],
   "source": [
    "sol_var_2 = [x.x,y.x,e_2.x]\n",
    "sol_var_2"
   ]
  },
  {
   "cell_type": "code",
   "execution_count": 34,
   "metadata": {},
   "outputs": [
    {
     "data": {
      "text/plain": [
       "11"
      ]
     },
     "execution_count": 34,
     "metadata": {},
     "output_type": "execute_result"
    }
   ],
   "source": [
    "f2_min=int(model_2.ObjVal)\n",
    "f2_min"
   ]
  },
  {
   "cell_type": "code",
   "execution_count": 35,
   "metadata": {},
   "outputs": [
    {
     "data": {
      "text/plain": [
       "19"
      ]
     },
     "execution_count": 35,
     "metadata": {},
     "output_type": "execute_result"
    }
   ],
   "source": [
    "f1_min=int(e_2.x)\n",
    "f1_min"
   ]
  },
  {
   "cell_type": "code",
   "execution_count": 36,
   "metadata": {},
   "outputs": [],
   "source": [
    "# e comienza en 25 y temrina en 11.\n",
    "list_x=[]\n",
    "list_y=[]\n",
    "f1=[]\n",
    "f2=[]\n",
    "\n",
    "\n",
    "for e in range(f2_max,f2_min,-1):\n",
    "    model_e = Model('Pareto Frontier - Gurobi')\n",
    "    model_e.setParam('OutputFlag', 0)\n",
    "\n",
    "    x = model_e.addVar(vtype=GRB.CONTINUOUS, name='x')\n",
    "    y = model_e.addVar(vtype=GRB.CONTINUOUS, name='y')\n",
    "    \n",
    "    model_e.setObjective(2*x+3*y, GRB.MAXIMIZE)\n",
    "    model_e.addConstr(x+y<=15,\"c1\")\n",
    "    model_e.addConstr(-2*x+y<=0,\"c2\")\n",
    "    model_e.addConstr(x>=5,\"c3\")\n",
    "    model_e.addConstr(y>=3,\"c4\")\n",
    "    model_e.addConstr(x+2*y<=e,\"ce\")\n",
    "\n",
    "    model_e.optimize()\n",
    "    \n",
    "    list_x.append(x.x)\n",
    "    list_y.append(y.x)\n",
    "    \n",
    "    f1.append(model_e.ObjVal)\n",
    "    f2.append(e)"
   ]
  },
  {
   "cell_type": "code",
   "execution_count": 37,
   "metadata": {},
   "outputs": [
    {
     "data": {
      "text/html": [
       "<div>\n",
       "<style scoped>\n",
       "    .dataframe tbody tr th:only-of-type {\n",
       "        vertical-align: middle;\n",
       "    }\n",
       "\n",
       "    .dataframe tbody tr th {\n",
       "        vertical-align: top;\n",
       "    }\n",
       "\n",
       "    .dataframe thead th {\n",
       "        text-align: right;\n",
       "    }\n",
       "</style>\n",
       "<table border=\"1\" class=\"dataframe\">\n",
       "  <thead>\n",
       "    <tr style=\"text-align: right;\">\n",
       "      <th></th>\n",
       "      <th>$f_1$</th>\n",
       "      <th>$f_2$</th>\n",
       "      <th>x</th>\n",
       "      <th>y</th>\n",
       "    </tr>\n",
       "  </thead>\n",
       "  <tbody>\n",
       "    <tr>\n",
       "      <td>0</td>\n",
       "      <td>40</td>\n",
       "      <td>25</td>\n",
       "      <td>5.0</td>\n",
       "      <td>10.0</td>\n",
       "    </tr>\n",
       "    <tr>\n",
       "      <td>1</td>\n",
       "      <td>39</td>\n",
       "      <td>24</td>\n",
       "      <td>6.0</td>\n",
       "      <td>9.0</td>\n",
       "    </tr>\n",
       "    <tr>\n",
       "      <td>2</td>\n",
       "      <td>38</td>\n",
       "      <td>23</td>\n",
       "      <td>7.0</td>\n",
       "      <td>8.0</td>\n",
       "    </tr>\n",
       "    <tr>\n",
       "      <td>3</td>\n",
       "      <td>37</td>\n",
       "      <td>22</td>\n",
       "      <td>8.0</td>\n",
       "      <td>7.0</td>\n",
       "    </tr>\n",
       "    <tr>\n",
       "      <td>4</td>\n",
       "      <td>36</td>\n",
       "      <td>21</td>\n",
       "      <td>9.0</td>\n",
       "      <td>6.0</td>\n",
       "    </tr>\n",
       "    <tr>\n",
       "      <td>5</td>\n",
       "      <td>35</td>\n",
       "      <td>20</td>\n",
       "      <td>10.0</td>\n",
       "      <td>5.0</td>\n",
       "    </tr>\n",
       "    <tr>\n",
       "      <td>6</td>\n",
       "      <td>34</td>\n",
       "      <td>19</td>\n",
       "      <td>11.0</td>\n",
       "      <td>4.0</td>\n",
       "    </tr>\n",
       "    <tr>\n",
       "      <td>7</td>\n",
       "      <td>33</td>\n",
       "      <td>18</td>\n",
       "      <td>12.0</td>\n",
       "      <td>3.0</td>\n",
       "    </tr>\n",
       "    <tr>\n",
       "      <td>8</td>\n",
       "      <td>31</td>\n",
       "      <td>17</td>\n",
       "      <td>11.0</td>\n",
       "      <td>3.0</td>\n",
       "    </tr>\n",
       "    <tr>\n",
       "      <td>9</td>\n",
       "      <td>29</td>\n",
       "      <td>16</td>\n",
       "      <td>10.0</td>\n",
       "      <td>3.0</td>\n",
       "    </tr>\n",
       "    <tr>\n",
       "      <td>10</td>\n",
       "      <td>27</td>\n",
       "      <td>15</td>\n",
       "      <td>9.0</td>\n",
       "      <td>3.0</td>\n",
       "    </tr>\n",
       "    <tr>\n",
       "      <td>11</td>\n",
       "      <td>25</td>\n",
       "      <td>14</td>\n",
       "      <td>8.0</td>\n",
       "      <td>3.0</td>\n",
       "    </tr>\n",
       "    <tr>\n",
       "      <td>12</td>\n",
       "      <td>23</td>\n",
       "      <td>13</td>\n",
       "      <td>7.0</td>\n",
       "      <td>3.0</td>\n",
       "    </tr>\n",
       "    <tr>\n",
       "      <td>13</td>\n",
       "      <td>21</td>\n",
       "      <td>12</td>\n",
       "      <td>6.0</td>\n",
       "      <td>3.0</td>\n",
       "    </tr>\n",
       "  </tbody>\n",
       "</table>\n",
       "</div>"
      ],
      "text/plain": [
       "    $f_1$  $f_2$     x     y\n",
       "0      40     25   5.0  10.0\n",
       "1      39     24   6.0   9.0\n",
       "2      38     23   7.0   8.0\n",
       "3      37     22   8.0   7.0\n",
       "4      36     21   9.0   6.0\n",
       "5      35     20  10.0   5.0\n",
       "6      34     19  11.0   4.0\n",
       "7      33     18  12.0   3.0\n",
       "8      31     17  11.0   3.0\n",
       "9      29     16  10.0   3.0\n",
       "10     27     15   9.0   3.0\n",
       "11     25     14   8.0   3.0\n",
       "12     23     13   7.0   3.0\n",
       "13     21     12   6.0   3.0"
      ]
     },
     "execution_count": 37,
     "metadata": {},
     "output_type": "execute_result"
    }
   ],
   "source": [
    "df=pd.DataFrame(list(zip(f1, f2, list_x,list_y)),columns=['$f_1$','$f_2$', 'x','y'])\n",
    "df['$f_1$'] = df['$f_1$'].astype(int)\n",
    "df"
   ]
  },
  {
   "cell_type": "markdown",
   "metadata": {},
   "source": [
    "#  <font color= #007FFF> Paso nº 2: Determinar el punto Utópico </font>\n",
    "\n",
    "<div class=\"alert alert-success\">\n",
    "\n",
    "<b> **Gurobi:**</b>  \n",
    "Se determina el punto Utópico es decir el punto en el cual ambas funciones tendrían su valor óptimo. \n",
    "</div>"
   ]
  },
  {
   "cell_type": "code",
   "execution_count": 38,
   "metadata": {},
   "outputs": [
    {
     "data": {
      "image/png": "[encoded data removed]",
      "text/plain": [
       "<Figure size 576x288 with 1 Axes>"
      ]
     },
     "metadata": {},
     "output_type": "display_data"
    }
   ],
   "source": [
    "plt.figure(figsize=(8,4))\n",
    "\n",
    "sns.set(style=\"darkgrid\")\n",
    "plt.plot(f1,f2,'o-',color='g')\n",
    "\n",
    "plt.xlabel('$f_1$', fontsize=16)\n",
    "plt.ylabel('$f_2$', fontsize=16)\n",
    "plt.title(\"Pareto Frontier | Multi-objetive Optimizaion\",fontsize=18,color='blue')\n",
    "plt.scatter(f1_max,f2_min,marker=\"D\",color='red')\n",
    "\n",
    "\n",
    "plt.text(22, 20, \"Soliciones Dominadas\", fontsize=14,color='blue')\n",
    "plt.text(23, 11, \"Soluciones Infactibles\", fontsize=14,color='blue')\n",
    "\n",
    "plt.show()"
   ]
  },
  {
   "cell_type": "markdown",
   "metadata": {},
   "source": [
    "#  <font color= #007FFF> Paso nº 3: Algoritmo de Compromise Programming. </font>\n",
    "\n",
    "<div class=\"alert alert-success\">\n",
    "\n",
    "<b> **Gurobi:**</b>  \n",
    "Calcular la distancia entre el punto Utópico y las diferentes soluciones de que se encuentran en la frontera de pareto.\n",
    "</div>"
   ]
  },
  {
   "cell_type": "code",
   "execution_count": 39,
   "metadata": {},
   "outputs": [],
   "source": [
    "# variables y funciones:\n",
    "w1=0.5\n",
    "w2=0.5\n",
    "\n",
    "def f1(x,y):\n",
    "    return 2*x+3*y\n",
    "\n",
    "def f2(x,y):\n",
    "    return x+2*y"
   ]
  },
  {
   "cell_type": "markdown",
   "metadata": {},
   "source": [
    "<div class=\"alert alert-danger\">\n",
    "\n",
    "<b> **Compromise Programing | P=1:**</b>  \n",
    "Resolver el modelo utilizando el modelo de distancia con P=1\n",
    "</div>\n",
    "\n",
    "### <font color= #007FFF> Modelo de Programación Líneal | p=1. </font>\n",
    "\n",
    "\\begin{equation}\n",
    "Min\\;L_1=w_1 \\frac{40-f_1(x)}{40-19}+w_2 \\frac{f_2(x)-11}{25-11}\n",
    "\\\\\n",
    "s.t\n",
    "\\\\\n",
    "x+y \\leq 15 \n",
    "\\\\\n",
    "y -2x \\leq 0 \n",
    "\\\\\n",
    "x \\geq 5 \n",
    "\\\\\n",
    "y \\geq 3\n",
    "\\\\\n",
    "x,y \\geq 0\n",
    "\\end{equation}"
   ]
  },
  {
   "cell_type": "code",
   "execution_count": 40,
   "metadata": {},
   "outputs": [
    {
     "name": "stdout",
     "output_type": "stream",
     "text": [
      "Optimize a model with 4 rows, 2 columns and 6 nonzeros\n",
      "Coefficient statistics:\n",
      "  Matrix range     [1e+00, 2e+00]\n",
      "  Objective range  [1e-02, 1e-02]\n",
      "  Bounds range     [0e+00, 0e+00]\n",
      "  RHS range        [3e+00, 2e+01]\n",
      "Presolve removed 4 rows and 2 columns\n",
      "Presolve time: 0.04s\n",
      "Presolve: All rows and columns removed\n",
      "Iteration    Objective       Primal Inf.    Dual Inf.      Time\n",
      "       0    4.1666667e-01   0.000000e+00   0.000000e+00      0s\n",
      "\n",
      "Solved in 0 iterations and 0.06 seconds\n",
      "Optimal objective  4.166666667e-01\n",
      "Función Objetivo  0.4166666666666667\n"
     ]
    }
   ],
   "source": [
    "# Primero resolver el problema:\n",
    "model_p1 = Model('Muliobj - Gurobi')\n",
    "\n",
    "x = model_p1.addVar(vtype=GRB.CONTINUOUS, name='x')\n",
    "y = model_p1.addVar(vtype=GRB.CONTINUOUS, name='y')\n",
    "model_p1.setObjective(w1*((40-f1(x,y))/(40-19))+w2*((f2(x,y)-11)/(25-11)), GRB.MINIMIZE)\n",
    "model_p1.addConstr(x+y<=15,\"c1\")\n",
    "model_p1.addConstr(-2*x+y<=0,\"c2\")\n",
    "model_p1.addConstr(x>=5,\"c3\")\n",
    "model_p1.addConstr(y>=3,\"c4\")\n",
    "\n",
    "model_p1.optimize()\n",
    "print(\"Función Objetivo \",model_p1.ObjVal)"
   ]
  },
  {
   "cell_type": "code",
   "execution_count": 41,
   "metadata": {},
   "outputs": [
    {
     "name": "stdout",
     "output_type": "stream",
     "text": [
      " El valor de la función objetivo $f_1$ es:  33.0\n",
      " El valor de la función objetivo $f_2$ es:  18.0\n"
     ]
    }
   ],
   "source": [
    "sol_var_p1 = [x.x,y.x]\n",
    "\n",
    "f1_p1=f1(sol_var_p1[0],sol_var_p1[1])\n",
    "f2_p2=f2(sol_var_p1[0],sol_var_p1[1])\n",
    "print(\" El valor de la función objetivo $f_1$ es: \",f1_p1)\n",
    "print(\" El valor de la función objetivo $f_2$ es: \",f2_p2)"
   ]
  },
  {
   "cell_type": "markdown",
   "metadata": {},
   "source": [
    "<div class=\"alert alert-danger\">\n",
    "\n",
    "<b> **Compromise Programing | P= $\\infty$:**</b>  \n",
    "Resolver el modelo utilizando el modelo de distancia con P=$\\infty$\n",
    "</div>\n",
    "\n",
    "### <font color= #007FFF> Modelo de Programación Líneal | p=$\\infty$. </font>\n",
    "\n",
    "\\begin{equation}\n",
    "Min\\;L_\\infty =d\n",
    "\\\\\n",
    "s.t\n",
    "\\\\\n",
    "x+y \\leq 15 \n",
    "\\\\\n",
    "y -2x \\leq 0 \n",
    "\\\\\n",
    "x \\geq 5 \n",
    "\\\\\n",
    "y \\geq 3\n",
    "\\\\\n",
    "w_1 \\frac{40-f_1(x)}{40-19} \\leq d\n",
    "\\\\\n",
    "w_2 \\frac{f_2(x)-11}{25-11} \\leq d\n",
    "\\\\\n",
    "x,y \\geq 0\n",
    "\\end{equation}"
   ]
  },
  {
   "cell_type": "code",
   "execution_count": 42,
   "metadata": {},
   "outputs": [
    {
     "name": "stdout",
     "output_type": "stream",
     "text": [
      "Optimize a model with 6 rows, 3 columns and 12 nonzeros\n",
      "Coefficient statistics:\n",
      "  Matrix range     [4e-02, 2e+00]\n",
      "  Objective range  [1e+00, 1e+00]\n",
      "  Bounds range     [0e+00, 0e+00]\n",
      "  RHS range        [4e-01, 2e+01]\n",
      "Presolve removed 2 rows and 0 columns\n",
      "Presolve time: 0.04s\n",
      "Presolved: 4 rows, 3 columns, 10 nonzeros\n",
      "\n",
      "Iteration    Objective       Primal Inf.    Dual Inf.      Time\n",
      "       0    0.0000000e+00   5.000000e-01   0.000000e+00      0s\n",
      "       3    2.1428571e-01   0.000000e+00   0.000000e+00      0s\n",
      "\n",
      "Solved in 3 iterations and 0.06 seconds\n",
      "Optimal objective  2.142857143e-01\n",
      "Función Objetivo  0.21428571428571427\n"
     ]
    }
   ],
   "source": [
    "# Primero resolver el problema:\n",
    "model_pinf = Model('Muliobj - Gurobi')\n",
    "\n",
    "x = model_pinf.addVar(vtype=GRB.CONTINUOUS, name='x')\n",
    "y = model_pinf.addVar(vtype=GRB.CONTINUOUS, name='y')\n",
    "d = model_pinf.addVar(vtype=GRB.CONTINUOUS, name='d')\n",
    "\n",
    "model_pinf.setObjective(d, GRB.MINIMIZE)\n",
    "model_pinf.addConstr(x+y<=15,\"c1\")\n",
    "model_pinf.addConstr(-2*x+y<=0,\"c2\")\n",
    "model_pinf.addConstr(x>=5,\"c3\")\n",
    "model_pinf.addConstr(y>=3,\"c4\")\n",
    "model_pinf.addConstr(w1*((40-f1(x,y))/(40-19))<=d,\"c5\")\n",
    "model_pinf.addConstr(w2*((f2(x,y)-11)/(25-11))<=d,\"c6\")\n",
    "\n",
    "model_pinf.optimize()\n",
    "print(\"Función Objetivo \",model_pinf.ObjVal)"
   ]
  },
  {
   "cell_type": "code",
   "execution_count": 43,
   "metadata": {},
   "outputs": [
    {
     "name": "stdout",
     "output_type": "stream",
     "text": [
      " El valor de la función objetivo $f_1$ es:  31.0\n",
      " El valor de la función objetivo $f_2$ es:  17.0\n"
     ]
    }
   ],
   "source": [
    "sol_var_pinf = [x.x,y.x]\n",
    "\n",
    "f1_inf=f1(sol_var_pinf[0],sol_var_pinf[1])\n",
    "f2_inf=f2(sol_var_pinf[0],sol_var_pinf[1])\n",
    "print(\" El valor de la función objetivo $f_1$ es: \",f1_inf)\n",
    "print(\" El valor de la función objetivo $f_2$ es: \",f2_inf)"
   ]
  },
  {
   "cell_type": "markdown",
   "metadata": {},
   "source": [
    "### <font color= #007FFF>Gráficando soluciones. </font>\n",
    "\n",
    "<div class=\"alert alert-warning\">\n",
    "\n",
    "<b> **Compromise Programing** </b>  \n",
    "gráficando las dos soluciones – upper bound and lower bound – en la Frontera de Pareto.\n",
    "</div>\n",
    "\n"
   ]
  },
  {
   "cell_type": "code",
   "execution_count": 44,
   "metadata": {},
   "outputs": [
    {
     "data": {
      "image/png": "[encoded data removed]",
      "text/plain": [
       "<Figure size 864x432 with 1 Axes>"
      ]
     },
     "metadata": {},
     "output_type": "display_data"
    }
   ],
   "source": [
    "plt.figure(figsize=(12,6))\n",
    "f_1=df['$f_1$']\n",
    "f_2=df['$f_2$']\n",
    "\n",
    "sns.set(style=\"darkgrid\")\n",
    "plt.plot(f_1,f_2,'o-',color='g')\n",
    "\n",
    "plt.scatter(f1_max,f2_min,marker=\"D\",color='red')\n",
    "\n",
    "plt.xlabel('$f_1$', fontsize=16)\n",
    "plt.ylabel('$f_2$', fontsize=16)\n",
    "plt.title(\"Pareto Frontier | Multi-objetive Optimization\",fontsize=18,color='blue')\n",
    "plt.plot([max_f1,f1_inf],[min_f2,f2_inf],color=\"#ffb2b2\")\n",
    "plt.plot([max_f1,f1_p1],[min_f2,f2_p2],color=\"#ffb2b2\")\n",
    "\n",
    "plt.text(22, 20, \"Soliciones Dominadas\", fontsize=14,color='blue')\n",
    "plt.text(22, 11, \"Soluciones Infactibles\", fontsize=14,color='blue')\n",
    "plt.text(38.8, 10.3, \"Punto Utópico\", fontsize=14,color='#7f0000')\n",
    "\n",
    "plt.show()"
   ]
  },
  {
   "cell_type": "code",
   "execution_count": null,
   "metadata": {},
   "outputs": [],
   "source": []
  }
 ],
 "metadata": {
  "kernelspec": {
   "display_name": "Python 3",
   "language": "python",
   "name": "python3"
  },
  "language_info": {
   "codemirror_mode": {
    "name": "ipython",
    "version": 3
   },
   "file_extension": ".py",
   "mimetype": "text/x-python",
   "name": "python",
   "nbconvert_exporter": "python",
   "pygments_lexer": "ipython3",
   "version": "3.6.9"
  }
 },
 "nbformat": 4,
 "nbformat_minor": 2
}
