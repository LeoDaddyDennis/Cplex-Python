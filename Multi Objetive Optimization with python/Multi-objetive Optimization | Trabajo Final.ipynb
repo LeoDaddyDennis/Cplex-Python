{
 "cells": [
  {
   "cell_type": "markdown",
   "metadata": {},
   "source": [
    "![title](UCN_ICI.PNG)\n",
    "\n",
    "#  <font color= #007FFF> Optimización Multi Objetivo | Trabajo Final </font>\n",
    "\n",
    "## <font color=#007FFF> Aplicando $\\epsilon$-constraint a Multi Objetivo Travel salesman Problem: </font>\n",
    "\n",
    "<div class=\"alert alert-block alert-warning\">\n",
    "<b> **Multi Objective TSP:**</b> \n",
    "En este caso aplicaremos el método de $\\epsilon$-constraint y Compromise Programming al un problema Multi Objetivo del Travel salesman Problem. En este caso el TSP tiene dos objetivos minímizar la distancia recorrida y maxímizar la utilidad generada al visitar los nodos. En este caso, no es necesario visitar todos los nodos. La idea es esncontrar un set de nodos que minimizen la distancia y maximizen la utilidad.</div>\n",
    "\n",
    "\n",
    "$x_{ij}$= ir del nodo $i$ al nodo $j$ - variable binaria.\n",
    "\n",
    "$y_i$=Si se visita el $nodo_i$ $y_i=1$, de lo contrario $y_i=0$  - variable binaria.\n",
    "\n",
    "\\begin{equation}\n",
    "Min\\;f_1=\\displaystyle\\sum_{\\forall \\;Arch} x_{ij}d_{ij}\n",
    "\\end{equation}\n",
    "\\begin{equation}\n",
    "Max\\;f_2=\\displaystyle\\sum_{\\forall \\;nodes} y_{i}profit_{i}\n",
    "\\end{equation}\n",
    "\n",
    "$s.t$\n",
    "\\begin{equation}\n",
    "\\displaystyle\\sum_{\\forall \\;i \\; \\in \\; C} x_ij=2y_i   \\; \\forall \\;j \\; \\in \\; Nodos\n",
    "\\end{equation}\n",
    "\\begin{equation}\n",
    "\\displaystyle\\sum_{\\forall \\;j \\; \\in \\; Ciudades} x_ij \\leq 2y_i   \\; \\forall \\;i \\; \\in \\; Nodos\n",
    "\\end{equation}\n",
    "\\begin{equation}\n",
    "y_0=1\n",
    "\\end{equation}\n",
    "\n",
    "\n",
    "## <font color=#007FFF> Instrucciones: </font>\n",
    "\n",
    "1. Se debe entregar el jupyter notebook con los nombres de los integrantes del grupo.\n",
    "2. Los datos pueden ser generados aleatoriamente utilizando como semilla 0. \n",
    "3. Utilice 10 nodos como mínimo, donde $0$ es el origine y 10 el último nodo a visitar.\n",
    "4. Debe Aplicar el método de la $\\epsilon$-constraint y Compromise Programming.\n",
    "5. Debe explicar y documentar claramente lo que cada codigo está realizando. \n",
    "6. **Opcional** Puede en vez de utilizar nodos creados aletoriamente utilizar dirección en un mapa. La ciudad o el ocntinente son a libre elección del grupo.  Pero en este caso se debe representar en mapas.\n",
    "7. Deben gráficar la cota superior del problema de maximización, la cota inferior del problema de minimización y la solución o soluciones seleccionadas. \n",
    "8. Preguntas escribir un correo a sergio.correa@ucn.cl\n",
    "9. si no saben utilizar Cplex,Gurobi o Python. Pueden revisar el siguiente canal de [youtube.com](https://www.youtube.com/channel/UCGyGH1nuNrR1C35kWN9BMAg)\n",
    "10. El curso se dará por cerrado una vez que completen los dos trabajos asignados.\n"
   ]
  },
  {
   "cell_type": "code",
   "execution_count": null,
   "metadata": {},
   "outputs": [],
   "source": []
  }
 ],
 "metadata": {
  "kernelspec": {
   "display_name": "Python 3",
   "language": "python",
   "name": "python3"
  },
  "language_info": {
   "codemirror_mode": {
    "name": "ipython",
    "version": 3
   },
   "file_extension": ".py",
   "mimetype": "text/x-python",
   "name": "python",
   "nbconvert_exporter": "python",
   "pygments_lexer": "ipython3",
   "version": "3.6.9"
  }
 },
 "nbformat": 4,
 "nbformat_minor": 2
}
